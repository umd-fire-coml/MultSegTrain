{
 "cells": [
  {
   "cell_type": "code",
   "execution_count": 1,
   "metadata": {
    "colab": {
     "autoexec": {
      "startup": false,
      "wait_interval": 0.0
     },
     "base_uri": "https://localhost:8080/",
     "height": 192.0
    },
    "colab_type": "code",
    "executionInfo": {
     "elapsed": 49348.0,
     "status": "ok",
     "timestamp": 1.529348255559E12,
     "user": {
      "displayName": "Raymond Tu",
      "photoUrl": "//lh4.googleusercontent.com/-PiJFrbeyvzs/AAAAAAAAAAI/AAAAAAAAFzs/UKFF-SotCVo/s50-c-k-no/photo.jpg",
      "userId": "112993143985468015422"
     },
     "user_tz": 240.0
    },
    "id": "oloy5NpyUxmL",
    "outputId": "3c4de2d8-e39c-4bcb-d0b2-8cdacfd28121",
    "collapsed": false
   },
   "outputs": [
    {
     "name": "stdout",
     "output_type": "stream",
     "text": [
      " Volume in drive C is Windows\n",
      " Volume Serial Number is C67A-6D67\n",
      "\n",
      " Directory of C:\\Users\\tmthy\\Documents\\prog\\python3\\coml\\MaskTrack_RCNN\\project\n",
      "\n",
      "06/19/18  11:34    <DIR>          .\n",
      "06/19/18  11:34    <DIR>          ..\n",
      "06/19/18  11:30    <DIR>          .ipynb_checkpoints\n",
      "06/19/18  10:30             3,593 inspect_wad_data.ipynb\n",
      "06/19/18  11:31    <DIR>          logs\n",
      "06/18/18  22:48       257,557,808 mask_rcnn_coco.h5\n",
      "06/18/18  23:23            11,576 wad_data.py\n",
      "06/19/18  11:34            88,067 wad_data_training.ipynb\n",
      "06/18/18  23:23    <DIR>          __pycache__\n",
      "               4 File(s)    257,661,044 bytes\n",
      "               5 Dir(s)  120,381,820,928 bytes free\n"
     ]
    },
    {
     "name": "stderr",
     "output_type": "stream",
     "text": [
      "c:\\program files\\python36\\lib\\site-packages\\h5py\\__init__.py:36: FutureWarning: Conversion of the second argument of issubdtype from `float` to `np.floating` is deprecated. In future, it will be treated as `np.float64 == np.dtype(float).type`.\n",
      "  from ._conv import register_converters as _register_converters\n",
      "Using TensorFlow backend.\n"
     ]
    }
   ],
   "source": [
    "import os\n",
    "import skimage.io\n",
    "import matplotlib.pyplot as plt\n",
    "\n",
    "%matplotlib inline\n",
    "\n",
    "# Import Mask RCNN\n",
    "from mrcnn.config import Config\n",
    "import mrcnn.model as modellib\n",
    "from mrcnn import utils\n",
    "\n",
    "# Root directory of the project\n",
    "ROOT_DIR = os.path.abspath(\"../\")\n",
    "print('Project Directory: {}'.format(ROOT_DIR))\n",
    "\n",
    "# Root directory of the dataset\n",
    "DATA_DIR = os.path.join(ROOT_DIR, \"dataset/wad\")\n",
    "print('Data Directory: {}'.format(DATA_DIR))\n",
    "\n",
    "# Directory to save logs and trained model\n",
    "LOGS_DIR = os.path.join(ROOT_DIR, \"logs\")\n",
    "print('Logs and Model Directory: {}'.format(LOGS_DIR))\n",
    "\n",
    "# Local path to trained coco weights file\n",
    "COCO_MODEL_PATH = os.path.join(LOGS_DIR, 'mask_rcnn_coco.h5')\n",
    "# Download COCO trained weights from Releases if needed\n",
    "if not os.path.exists(COCO_MODEL_PATH):\n",
    "    utils.download_trained_weights(COCO_MODEL_PATH)"
   ]
  },
  {
   "cell_type": "markdown",
   "metadata": {
    "colab_type": "text",
    "id": "ZrDSKKPUTJII"
   },
   "source": [
    "## Configuration"
   ]
  },
  {
   "cell_type": "code",
   "execution_count": 3,
   "metadata": {
    "colab": {
     "autoexec": {
      "startup": false,
      "wait_interval": 0.0
     },
     "base_uri": "https://localhost:8080/",
     "height": 892.0
    },
    "colab_type": "code",
    "executionInfo": {
     "elapsed": 184.0,
     "status": "ok",
     "timestamp": 1.529348394269E12,
     "user": {
      "displayName": "Raymond Tu",
      "photoUrl": "//lh4.googleusercontent.com/-PiJFrbeyvzs/AAAAAAAAAAI/AAAAAAAAFzs/UKFF-SotCVo/s50-c-k-no/photo.jpg",
      "userId": "112993143985468015422"
     },
     "user_tz": 240.0
    },
    "id": "OTT9HIDCTC8i",
    "outputId": "79f542b0-7ee6-437f-fd7a-effa5b9f932c"
   },
   "outputs": [
    {
     "name": "stdout",
     "output_type": "stream",
     "text": [
      "\n",
      "Configurations:\n",
      "BACKBONE                       resnet101\n",
      "BACKBONE_STRIDES               [4, 8, 16, 32, 64]\n",
      "BATCH_SIZE                     2\n",
      "BBOX_STD_DEV                   [0.1 0.1 0.2 0.2]\n",
      "DETECTION_MAX_INSTANCES        100\n",
      "DETECTION_MIN_CONFIDENCE       0.7\n",
      "DETECTION_NMS_THRESHOLD        0.3\n",
      "GPU_COUNT                      1\n",
      "GRADIENT_CLIP_NORM             5.0\n",
      "IMAGES_PER_GPU                 2\n",
      "IMAGE_MAX_DIM                  1024\n",
      "IMAGE_META_SIZE                48\n",
      "IMAGE_MIN_DIM                  800\n",
      "IMAGE_MIN_SCALE                0\n",
      "IMAGE_RESIZE_MODE              square\n",
      "IMAGE_SHAPE                    [1024 1024    3]\n",
      "LEARNING_MOMENTUM              0.9\n",
      "LEARNING_RATE                  0.001\n",
      "LOSS_WEIGHTS                   {'rpn_class_loss': 1.0, 'rpn_bbox_loss': 1.0, 'mrcnn_class_loss': 1.0, 'mrcnn_bbox_loss': 1.0, 'mrcnn_mask_loss': 1.0}\n",
      "MASK_POOL_SIZE                 14\n",
      "MASK_SHAPE                     [28, 28]\n",
      "MAX_GT_INSTANCES               100\n",
      "MEAN_PIXEL                     [123.7 116.8 103.9]\n",
      "MINI_MASK_SHAPE                (56, 56)\n",
      "NAME                           WAD\n",
      "NUM_CLASSES                    36\n",
      "POOL_SIZE                      7\n",
      "POST_NMS_ROIS_INFERENCE        1000\n",
      "POST_NMS_ROIS_TRAINING         2000\n",
      "ROI_POSITIVE_RATIO             0.33\n",
      "RPN_ANCHOR_RATIOS              [0.5, 1, 2]\n",
      "RPN_ANCHOR_SCALES              (32, 64, 128, 256, 512)\n",
      "RPN_ANCHOR_STRIDE              1\n",
      "RPN_BBOX_STD_DEV               [0.1 0.1 0.2 0.2]\n",
      "RPN_NMS_THRESHOLD              0.7\n",
      "RPN_TRAIN_ANCHORS_PER_IMAGE    256\n",
      "STEPS_PER_EPOCH                1000\n",
      "TRAIN_BN                       False\n",
      "TRAIN_ROIS_PER_IMAGE           200\n",
      "USE_MINI_MASK                  True\n",
      "USE_RPN_ROIS                   True\n",
      "VALIDATION_STEPS               50\n",
      "WEIGHT_DECAY                   0.0001\n",
      "\n",
      "\n"
     ]
    }
   ],
   "source": [
    "from project import wad_data\n",
    "\n",
    "cfg = wad_data.WADConfig()\n",
    "cfg.display()"
   ]
  },
  {
   "cell_type": "markdown",
   "metadata": {
    "colab_type": "text",
    "id": "Unxlaax_TSfv"
   },
   "source": [
    "## Dataset\n",
    "\n",
    "load_mask has been tested. green light .. green light"
   ]
  },
  {
   "cell_type": "code",
   "execution_count": 4,
   "metadata": {
    "colab": {
     "autoexec": {
      "startup": false,
      "wait_interval": 0.0
     }
    },
    "colab_type": "code",
    "id": "dEyP-1tATFRb",
    "collapsed": false
   },
   "outputs": [
    {
     "name": "stdout",
     "output_type": "stream",
     "text": [
      "[{'id': '170908_061502408_Camera_5', 'source': 'WAD', 'path': '170908_061502408_Camera_5.jpg', 'mask_path': '170908_061502408_Camera_5_instanceIds.png'}, {'id': '170908_061502408_Camera_6', 'source': 'WAD', 'path': '170908_061502408_Camera_6.jpg', 'mask_path': '170908_061502408_Camera_6_instanceIds.png'}, {'id': '170908_061502547_Camera_5', 'source': 'WAD', 'path': '170908_061502547_Camera_5.jpg', 'mask_path': '170908_061502547_Camera_5_instanceIds.png'}, {'id': '170908_061502547_Camera_6', 'source': 'WAD', 'path': '170908_061502547_Camera_6.jpg', 'mask_path': '170908_061502547_Camera_6_instanceIds.png'}, {'id': '170908_061502686_Camera_5', 'source': 'WAD', 'path': '170908_061502686_Camera_5.jpg', 'mask_path': '170908_061502686_Camera_5_instanceIds.png'}, {'id': '170908_061502825_Camera_5', 'source': 'WAD', 'path': '170908_061502825_Camera_5.jpg', 'mask_path': '170908_061502825_Camera_5_instanceIds.png'}, {'id': '170908_061502825_Camera_6', 'source': 'WAD', 'path': '170908_061502825_Camera_6.jpg', 'mask_path': '170908_061502825_Camera_6_instanceIds.png'}, {'id': '170908_061502964_Camera_5', 'source': 'WAD', 'path': '170908_061502964_Camera_5.jpg', 'mask_path': '170908_061502964_Camera_5_instanceIds.png'}, {'id': '170908_061502964_Camera_6', 'source': 'WAD', 'path': '170908_061502964_Camera_6.jpg', 'mask_path': '170908_061502964_Camera_6_instanceIds.png'}, {'id': '170908_061503103_Camera_5', 'source': 'WAD', 'path': '170908_061503103_Camera_5.jpg', 'mask_path': '170908_061503103_Camera_5_instanceIds.png'}, {'id': '170908_061503103_Camera_6', 'source': 'WAD', 'path': '170908_061503103_Camera_6.jpg', 'mask_path': '170908_061503103_Camera_6_instanceIds.png'}, {'id': '170908_061503242_Camera_5', 'source': 'WAD', 'path': '170908_061503242_Camera_5.jpg', 'mask_path': '170908_061503242_Camera_5_instanceIds.png'}, {'id': '170908_061503242_Camera_6', 'source': 'WAD', 'path': '170908_061503242_Camera_6.jpg', 'mask_path': '170908_061503242_Camera_6_instanceIds.png'}, {'id': '170908_061503381_Camera_5', 'source': 'WAD', 'path': '170908_061503381_Camera_5.jpg', 'mask_path': '170908_061503381_Camera_5_instanceIds.png'}, {'id': '170908_061503381_Camera_6', 'source': 'WAD', 'path': '170908_061503381_Camera_6.jpg', 'mask_path': '170908_061503381_Camera_6_instanceIds.png'}, {'id': '170908_061503520_Camera_5', 'source': 'WAD', 'path': '170908_061503520_Camera_5.jpg', 'mask_path': '170908_061503520_Camera_5_instanceIds.png'}, {'id': '170908_061503520_Camera_6', 'source': 'WAD', 'path': '170908_061503520_Camera_6.jpg', 'mask_path': '170908_061503520_Camera_6_instanceIds.png'}, {'id': '170908_061503659_Camera_5', 'source': 'WAD', 'path': '170908_061503659_Camera_5.jpg', 'mask_path': '170908_061503659_Camera_5_instanceIds.png'}, {'id': '170908_061503659_Camera_6', 'source': 'WAD', 'path': '170908_061503659_Camera_6.jpg', 'mask_path': '170908_061503659_Camera_6_instanceIds.png'}, {'id': '170908_061503798_Camera_5', 'source': 'WAD', 'path': '170908_061503798_Camera_5.jpg', 'mask_path': '170908_061503798_Camera_5_instanceIds.png'}, {'id': '170908_061503937_Camera_5', 'source': 'WAD', 'path': '170908_061503937_Camera_5.jpg', 'mask_path': '170908_061503937_Camera_5_instanceIds.png'}, {'id': '170908_061503937_Camera_6', 'source': 'WAD', 'path': '170908_061503937_Camera_6.jpg', 'mask_path': '170908_061503937_Camera_6_instanceIds.png'}, {'id': '170908_061504076_Camera_5', 'source': 'WAD', 'path': '170908_061504076_Camera_5.jpg', 'mask_path': '170908_061504076_Camera_5_instanceIds.png'}, {'id': '170908_061504076_Camera_6', 'source': 'WAD', 'path': '170908_061504076_Camera_6.jpg', 'mask_path': '170908_061504076_Camera_6_instanceIds.png'}, {'id': '170908_061504215_Camera_5', 'source': 'WAD', 'path': '170908_061504215_Camera_5.jpg', 'mask_path': '170908_061504215_Camera_5_instanceIds.png'}, {'id': '170908_061504215_Camera_6', 'source': 'WAD', 'path': '170908_061504215_Camera_6.jpg', 'mask_path': '170908_061504215_Camera_6_instanceIds.png'}, {'id': '170908_061504354_Camera_5', 'source': 'WAD', 'path': '170908_061504354_Camera_5.jpg', 'mask_path': '170908_061504354_Camera_5_instanceIds.png'}, {'id': '170908_061504354_Camera_6', 'source': 'WAD', 'path': '170908_061504354_Camera_6.jpg', 'mask_path': '170908_061504354_Camera_6_instanceIds.png'}, {'id': '170908_061504493_Camera_5', 'source': 'WAD', 'path': '170908_061504493_Camera_5.jpg', 'mask_path': '170908_061504493_Camera_5_instanceIds.png'}, {'id': '170908_061504493_Camera_6', 'source': 'WAD', 'path': '170908_061504493_Camera_6.jpg', 'mask_path': '170908_061504493_Camera_6_instanceIds.png'}, {'id': '170908_061504632_Camera_5', 'source': 'WAD', 'path': '170908_061504632_Camera_5.jpg', 'mask_path': '170908_061504632_Camera_5_instanceIds.png'}, {'id': '170908_061504632_Camera_6', 'source': 'WAD', 'path': '170908_061504632_Camera_6.jpg', 'mask_path': '170908_061504632_Camera_6_instanceIds.png'}, {'id': '170908_061504771_Camera_5', 'source': 'WAD', 'path': '170908_061504771_Camera_5.jpg', 'mask_path': '170908_061504771_Camera_5_instanceIds.png'}, {'id': '170908_061504771_Camera_6', 'source': 'WAD', 'path': '170908_061504771_Camera_6.jpg', 'mask_path': '170908_061504771_Camera_6_instanceIds.png'}, {'id': '170908_061504910_Camera_5', 'source': 'WAD', 'path': '170908_061504910_Camera_5.jpg', 'mask_path': '170908_061504910_Camera_5_instanceIds.png'}, {'id': '170908_061504910_Camera_6', 'source': 'WAD', 'path': '170908_061504910_Camera_6.jpg', 'mask_path': '170908_061504910_Camera_6_instanceIds.png'}, {'id': '170908_061505049_Camera_5', 'source': 'WAD', 'path': '170908_061505049_Camera_5.jpg', 'mask_path': '170908_061505049_Camera_5_instanceIds.png'}, {'id': '170908_061505049_Camera_6', 'source': 'WAD', 'path': '170908_061505049_Camera_6.jpg', 'mask_path': '170908_061505049_Camera_6_instanceIds.png'}, {'id': '170908_061505188_Camera_5', 'source': 'WAD', 'path': '170908_061505188_Camera_5.jpg', 'mask_path': '170908_061505188_Camera_5_instanceIds.png'}, {'id': '170908_061505188_Camera_6', 'source': 'WAD', 'path': '170908_061505188_Camera_6.jpg', 'mask_path': '170908_061505188_Camera_6_instanceIds.png'}, {'id': '170908_061505327_Camera_5', 'source': 'WAD', 'path': '170908_061505327_Camera_5.jpg', 'mask_path': '170908_061505327_Camera_5_instanceIds.png'}, {'id': '170908_061505327_Camera_6', 'source': 'WAD', 'path': '170908_061505327_Camera_6.jpg', 'mask_path': '170908_061505327_Camera_6_instanceIds.png'}, {'id': '170908_061505466_Camera_5', 'source': 'WAD', 'path': '170908_061505466_Camera_5.jpg', 'mask_path': '170908_061505466_Camera_5_instanceIds.png'}, {'id': '170908_061505466_Camera_6', 'source': 'WAD', 'path': '170908_061505466_Camera_6.jpg', 'mask_path': '170908_061505466_Camera_6_instanceIds.png'}, {'id': '170908_061505605_Camera_5', 'source': 'WAD', 'path': '170908_061505605_Camera_5.jpg', 'mask_path': '170908_061505605_Camera_5_instanceIds.png'}, {'id': '170908_061505605_Camera_6', 'source': 'WAD', 'path': '170908_061505605_Camera_6.jpg', 'mask_path': '170908_061505605_Camera_6_instanceIds.png'}, {'id': '170908_061505744_Camera_5', 'source': 'WAD', 'path': '170908_061505744_Camera_5.jpg', 'mask_path': '170908_061505744_Camera_5_instanceIds.png'}, {'id': '170908_061505744_Camera_6', 'source': 'WAD', 'path': '170908_061505744_Camera_6.jpg', 'mask_path': '170908_061505744_Camera_6_instanceIds.png'}, {'id': '170908_061505883_Camera_5', 'source': 'WAD', 'path': '170908_061505883_Camera_5.jpg', 'mask_path': '170908_061505883_Camera_5_instanceIds.png'}, {'id': '170908_061505883_Camera_6', 'source': 'WAD', 'path': '170908_061505883_Camera_6.jpg', 'mask_path': '170908_061505883_Camera_6_instanceIds.png'}, {'id': '170908_061506022_Camera_5', 'source': 'WAD', 'path': '170908_061506022_Camera_5.jpg', 'mask_path': '170908_061506022_Camera_5_instanceIds.png'}, {'id': '170908_061506022_Camera_6', 'source': 'WAD', 'path': '170908_061506022_Camera_6.jpg', 'mask_path': '170908_061506022_Camera_6_instanceIds.png'}, {'id': '170908_061506161_Camera_5', 'source': 'WAD', 'path': '170908_061506161_Camera_5.jpg', 'mask_path': '170908_061506161_Camera_5_instanceIds.png'}, {'id': '170908_061506161_Camera_6', 'source': 'WAD', 'path': '170908_061506161_Camera_6.jpg', 'mask_path': '170908_061506161_Camera_6_instanceIds.png'}, {'id': '170908_061506300_Camera_5', 'source': 'WAD', 'path': '170908_061506300_Camera_5.jpg', 'mask_path': '170908_061506300_Camera_5_instanceIds.png'}, {'id': '170908_061506300_Camera_6', 'source': 'WAD', 'path': '170908_061506300_Camera_6.jpg', 'mask_path': '170908_061506300_Camera_6_instanceIds.png'}, {'id': '170908_061506439_Camera_5', 'source': 'WAD', 'path': '170908_061506439_Camera_5.jpg', 'mask_path': '170908_061506439_Camera_5_instanceIds.png'}, {'id': '170908_061506439_Camera_6', 'source': 'WAD', 'path': '170908_061506439_Camera_6.jpg', 'mask_path': '170908_061506439_Camera_6_instanceIds.png'}, {'id': '170908_061506578_Camera_5', 'source': 'WAD', 'path': '170908_061506578_Camera_5.jpg', 'mask_path': '170908_061506578_Camera_5_instanceIds.png'}, {'id': '170908_061506578_Camera_6', 'source': 'WAD', 'path': '170908_061506578_Camera_6.jpg', 'mask_path': '170908_061506578_Camera_6_instanceIds.png'}, {'id': '170908_061506717_Camera_5', 'source': 'WAD', 'path': '170908_061506717_Camera_5.jpg', 'mask_path': '170908_061506717_Camera_5_instanceIds.png'}, {'id': '170908_061506856_Camera_5', 'source': 'WAD', 'path': '170908_061506856_Camera_5.jpg', 'mask_path': '170908_061506856_Camera_5_instanceIds.png'}, {'id': '170908_061506856_Camera_6', 'source': 'WAD', 'path': '170908_061506856_Camera_6.jpg', 'mask_path': '170908_061506856_Camera_6_instanceIds.png'}, {'id': '170908_061506995_Camera_5', 'source': 'WAD', 'path': '170908_061506995_Camera_5.jpg', 'mask_path': '170908_061506995_Camera_5_instanceIds.png'}, {'id': '170908_061506995_Camera_6', 'source': 'WAD', 'path': '170908_061506995_Camera_6.jpg', 'mask_path': '170908_061506995_Camera_6_instanceIds.png'}, {'id': '170908_061507134_Camera_5', 'source': 'WAD', 'path': '170908_061507134_Camera_5.jpg', 'mask_path': '170908_061507134_Camera_5_instanceIds.png'}, {'id': '170908_061507134_Camera_6', 'source': 'WAD', 'path': '170908_061507134_Camera_6.jpg', 'mask_path': '170908_061507134_Camera_6_instanceIds.png'}, {'id': '170908_061507273_Camera_5', 'source': 'WAD', 'path': '170908_061507273_Camera_5.jpg', 'mask_path': '170908_061507273_Camera_5_instanceIds.png'}, {'id': '170908_061507273_Camera_6', 'source': 'WAD', 'path': '170908_061507273_Camera_6.jpg', 'mask_path': '170908_061507273_Camera_6_instanceIds.png'}, {'id': '170908_061507412_Camera_5', 'source': 'WAD', 'path': '170908_061507412_Camera_5.jpg', 'mask_path': '170908_061507412_Camera_5_instanceIds.png'}, {'id': '170908_061507412_Camera_6', 'source': 'WAD', 'path': '170908_061507412_Camera_6.jpg', 'mask_path': '170908_061507412_Camera_6_instanceIds.png'}, {'id': '170908_061507551_Camera_5', 'source': 'WAD', 'path': '170908_061507551_Camera_5.jpg', 'mask_path': '170908_061507551_Camera_5_instanceIds.png'}, {'id': '170908_061507551_Camera_6', 'source': 'WAD', 'path': '170908_061507551_Camera_6.jpg', 'mask_path': '170908_061507551_Camera_6_instanceIds.png'}, {'id': '170908_061507690_Camera_5', 'source': 'WAD', 'path': '170908_061507690_Camera_5.jpg', 'mask_path': '170908_061507690_Camera_5_instanceIds.png'}, {'id': '170908_061507690_Camera_6', 'source': 'WAD', 'path': '170908_061507690_Camera_6.jpg', 'mask_path': '170908_061507690_Camera_6_instanceIds.png'}, {'id': '170908_061507829_Camera_5', 'source': 'WAD', 'path': '170908_061507829_Camera_5.jpg', 'mask_path': '170908_061507829_Camera_5_instanceIds.png'}, {'id': '170908_061507829_Camera_6', 'source': 'WAD', 'path': '170908_061507829_Camera_6.jpg', 'mask_path': '170908_061507829_Camera_6_instanceIds.png'}, {'id': '170908_061507968_Camera_6', 'source': 'WAD', 'path': '170908_061507968_Camera_6.jpg', 'mask_path': '170908_061507968_Camera_6_instanceIds.png'}, {'id': '170908_061508107_Camera_5', 'source': 'WAD', 'path': '170908_061508107_Camera_5.jpg', 'mask_path': '170908_061508107_Camera_5_instanceIds.png'}, {'id': '170908_061508107_Camera_6', 'source': 'WAD', 'path': '170908_061508107_Camera_6.jpg', 'mask_path': '170908_061508107_Camera_6_instanceIds.png'}, {'id': '170908_061508246_Camera_5', 'source': 'WAD', 'path': '170908_061508246_Camera_5.jpg', 'mask_path': '170908_061508246_Camera_5_instanceIds.png'}, {'id': '170908_061508246_Camera_6', 'source': 'WAD', 'path': '170908_061508246_Camera_6.jpg', 'mask_path': '170908_061508246_Camera_6_instanceIds.png'}, {'id': '170908_061508385_Camera_5', 'source': 'WAD', 'path': '170908_061508385_Camera_5.jpg', 'mask_path': '170908_061508385_Camera_5_instanceIds.png'}, {'id': '170908_061508385_Camera_6', 'source': 'WAD', 'path': '170908_061508385_Camera_6.jpg', 'mask_path': '170908_061508385_Camera_6_instanceIds.png'}, {'id': '170908_061508524_Camera_5', 'source': 'WAD', 'path': '170908_061508524_Camera_5.jpg', 'mask_path': '170908_061508524_Camera_5_instanceIds.png'}, {'id': '170908_061508524_Camera_6', 'source': 'WAD', 'path': '170908_061508524_Camera_6.jpg', 'mask_path': '170908_061508524_Camera_6_instanceIds.png'}, {'id': '170908_061508663_Camera_6', 'source': 'WAD', 'path': '170908_061508663_Camera_6.jpg', 'mask_path': '170908_061508663_Camera_6_instanceIds.png'}, {'id': '170908_061508802_Camera_5', 'source': 'WAD', 'path': '170908_061508802_Camera_5.jpg', 'mask_path': '170908_061508802_Camera_5_instanceIds.png'}, {'id': '170908_061508802_Camera_6', 'source': 'WAD', 'path': '170908_061508802_Camera_6.jpg', 'mask_path': '170908_061508802_Camera_6_instanceIds.png'}, {'id': '170908_061508941_Camera_5', 'source': 'WAD', 'path': '170908_061508941_Camera_5.jpg', 'mask_path': '170908_061508941_Camera_5_instanceIds.png'}, {'id': '170908_061508941_Camera_6', 'source': 'WAD', 'path': '170908_061508941_Camera_6.jpg', 'mask_path': '170908_061508941_Camera_6_instanceIds.png'}, {'id': '170908_061509080_Camera_5', 'source': 'WAD', 'path': '170908_061509080_Camera_5.jpg', 'mask_path': '170908_061509080_Camera_5_instanceIds.png'}, {'id': '170908_061509080_Camera_6', 'source': 'WAD', 'path': '170908_061509080_Camera_6.jpg', 'mask_path': '170908_061509080_Camera_6_instanceIds.png'}, {'id': '170908_061509219_Camera_5', 'source': 'WAD', 'path': '170908_061509219_Camera_5.jpg', 'mask_path': '170908_061509219_Camera_5_instanceIds.png'}, {'id': '170908_061509219_Camera_6', 'source': 'WAD', 'path': '170908_061509219_Camera_6.jpg', 'mask_path': '170908_061509219_Camera_6_instanceIds.png'}, {'id': '170908_061509358_Camera_5', 'source': 'WAD', 'path': '170908_061509358_Camera_5.jpg', 'mask_path': '170908_061509358_Camera_5_instanceIds.png'}, {'id': '170908_061509358_Camera_6', 'source': 'WAD', 'path': '170908_061509358_Camera_6.jpg', 'mask_path': '170908_061509358_Camera_6_instanceIds.png'}, {'id': '170908_061509497_Camera_5', 'source': 'WAD', 'path': '170908_061509497_Camera_5.jpg', 'mask_path': '170908_061509497_Camera_5_instanceIds.png'}, {'id': '170908_061509497_Camera_6', 'source': 'WAD', 'path': '170908_061509497_Camera_6.jpg', 'mask_path': '170908_061509497_Camera_6_instanceIds.png'}, {'id': '170908_061509636_Camera_5', 'source': 'WAD', 'path': '170908_061509636_Camera_5.jpg', 'mask_path': '170908_061509636_Camera_5_instanceIds.png'}, {'id': '170908_061509636_Camera_6', 'source': 'WAD', 'path': '170908_061509636_Camera_6.jpg', 'mask_path': '170908_061509636_Camera_6_instanceIds.png'}, {'id': '170908_061509775_Camera_5', 'source': 'WAD', 'path': '170908_061509775_Camera_5.jpg', 'mask_path': '170908_061509775_Camera_5_instanceIds.png'}, {'id': '170908_061509775_Camera_6', 'source': 'WAD', 'path': '170908_061509775_Camera_6.jpg', 'mask_path': '170908_061509775_Camera_6_instanceIds.png'}, {'id': '170908_061509914_Camera_5', 'source': 'WAD', 'path': '170908_061509914_Camera_5.jpg', 'mask_path': '170908_061509914_Camera_5_instanceIds.png'}, {'id': '170908_061509914_Camera_6', 'source': 'WAD', 'path': '170908_061509914_Camera_6.jpg', 'mask_path': '170908_061509914_Camera_6_instanceIds.png'}, {'id': '170908_061510053_Camera_5', 'source': 'WAD', 'path': '170908_061510053_Camera_5.jpg', 'mask_path': '170908_061510053_Camera_5_instanceIds.png'}, {'id': '170908_061510053_Camera_6', 'source': 'WAD', 'path': '170908_061510053_Camera_6.jpg', 'mask_path': '170908_061510053_Camera_6_instanceIds.png'}, {'id': '170908_061510192_Camera_5', 'source': 'WAD', 'path': '170908_061510192_Camera_5.jpg', 'mask_path': '170908_061510192_Camera_5_instanceIds.png'}, {'id': '170908_061510192_Camera_6', 'source': 'WAD', 'path': '170908_061510192_Camera_6.jpg', 'mask_path': '170908_061510192_Camera_6_instanceIds.png'}, {'id': '170908_061510331_Camera_5', 'source': 'WAD', 'path': '170908_061510331_Camera_5.jpg', 'mask_path': '170908_061510331_Camera_5_instanceIds.png'}, {'id': '170908_061510331_Camera_6', 'source': 'WAD', 'path': '170908_061510331_Camera_6.jpg', 'mask_path': '170908_061510331_Camera_6_instanceIds.png'}, {'id': '170908_061510470_Camera_5', 'source': 'WAD', 'path': '170908_061510470_Camera_5.jpg', 'mask_path': '170908_061510470_Camera_5_instanceIds.png'}, {'id': '170908_061510470_Camera_6', 'source': 'WAD', 'path': '170908_061510470_Camera_6.jpg', 'mask_path': '170908_061510470_Camera_6_instanceIds.png'}, {'id': '170908_061510609_Camera_5', 'source': 'WAD', 'path': '170908_061510609_Camera_5.jpg', 'mask_path': '170908_061510609_Camera_5_instanceIds.png'}, {'id': '170908_061510609_Camera_6', 'source': 'WAD', 'path': '170908_061510609_Camera_6.jpg', 'mask_path': '170908_061510609_Camera_6_instanceIds.png'}, {'id': '170908_061510748_Camera_5', 'source': 'WAD', 'path': '170908_061510748_Camera_5.jpg', 'mask_path': '170908_061510748_Camera_5_instanceIds.png'}, {'id': '170908_061510748_Camera_6', 'source': 'WAD', 'path': '170908_061510748_Camera_6.jpg', 'mask_path': '170908_061510748_Camera_6_instanceIds.png'}, {'id': '170908_061510887_Camera_5', 'source': 'WAD', 'path': '170908_061510887_Camera_5.jpg', 'mask_path': '170908_061510887_Camera_5_instanceIds.png'}, {'id': '170908_061510887_Camera_6', 'source': 'WAD', 'path': '170908_061510887_Camera_6.jpg', 'mask_path': '170908_061510887_Camera_6_instanceIds.png'}, {'id': '170908_061511026_Camera_5', 'source': 'WAD', 'path': '170908_061511026_Camera_5.jpg', 'mask_path': '170908_061511026_Camera_5_instanceIds.png'}, {'id': '170908_061511026_Camera_6', 'source': 'WAD', 'path': '170908_061511026_Camera_6.jpg', 'mask_path': '170908_061511026_Camera_6_instanceIds.png'}, {'id': '170908_061511165_Camera_5', 'source': 'WAD', 'path': '170908_061511165_Camera_5.jpg', 'mask_path': '170908_061511165_Camera_5_instanceIds.png'}, {'id': '170908_061511165_Camera_6', 'source': 'WAD', 'path': '170908_061511165_Camera_6.jpg', 'mask_path': '170908_061511165_Camera_6_instanceIds.png'}, {'id': '170908_061511304_Camera_5', 'source': 'WAD', 'path': '170908_061511304_Camera_5.jpg', 'mask_path': '170908_061511304_Camera_5_instanceIds.png'}, {'id': '170908_061511304_Camera_6', 'source': 'WAD', 'path': '170908_061511304_Camera_6.jpg', 'mask_path': '170908_061511304_Camera_6_instanceIds.png'}, {'id': '170908_061511443_Camera_5', 'source': 'WAD', 'path': '170908_061511443_Camera_5.jpg', 'mask_path': '170908_061511443_Camera_5_instanceIds.png'}, {'id': '170908_061511443_Camera_6', 'source': 'WAD', 'path': '170908_061511443_Camera_6.jpg', 'mask_path': '170908_061511443_Camera_6_instanceIds.png'}, {'id': '170908_061511582_Camera_5', 'source': 'WAD', 'path': '170908_061511582_Camera_5.jpg', 'mask_path': '170908_061511582_Camera_5_instanceIds.png'}, {'id': '170908_061511582_Camera_6', 'source': 'WAD', 'path': '170908_061511582_Camera_6.jpg', 'mask_path': '170908_061511582_Camera_6_instanceIds.png'}, {'id': '170908_061511721_Camera_5', 'source': 'WAD', 'path': '170908_061511721_Camera_5.jpg', 'mask_path': '170908_061511721_Camera_5_instanceIds.png'}, {'id': '170908_061511721_Camera_6', 'source': 'WAD', 'path': '170908_061511721_Camera_6.jpg', 'mask_path': '170908_061511721_Camera_6_instanceIds.png'}, {'id': '170908_061511860_Camera_5', 'source': 'WAD', 'path': '170908_061511860_Camera_5.jpg', 'mask_path': '170908_061511860_Camera_5_instanceIds.png'}, {'id': '170908_061511860_Camera_6', 'source': 'WAD', 'path': '170908_061511860_Camera_6.jpg', 'mask_path': '170908_061511860_Camera_6_instanceIds.png'}, {'id': '170908_061511999_Camera_5', 'source': 'WAD', 'path': '170908_061511999_Camera_5.jpg', 'mask_path': '170908_061511999_Camera_5_instanceIds.png'}, {'id': '170908_061511999_Camera_6', 'source': 'WAD', 'path': '170908_061511999_Camera_6.jpg', 'mask_path': '170908_061511999_Camera_6_instanceIds.png'}, {'id': '170908_061512138_Camera_5', 'source': 'WAD', 'path': '170908_061512138_Camera_5.jpg', 'mask_path': '170908_061512138_Camera_5_instanceIds.png'}, {'id': '170908_061512138_Camera_6', 'source': 'WAD', 'path': '170908_061512138_Camera_6.jpg', 'mask_path': '170908_061512138_Camera_6_instanceIds.png'}, {'id': '170908_061512277_Camera_5', 'source': 'WAD', 'path': '170908_061512277_Camera_5.jpg', 'mask_path': '170908_061512277_Camera_5_instanceIds.png'}, {'id': '170908_061512277_Camera_6', 'source': 'WAD', 'path': '170908_061512277_Camera_6.jpg', 'mask_path': '170908_061512277_Camera_6_instanceIds.png'}, {'id': '170908_061512416_Camera_5', 'source': 'WAD', 'path': '170908_061512416_Camera_5.jpg', 'mask_path': '170908_061512416_Camera_5_instanceIds.png'}, {'id': '170908_061512416_Camera_6', 'source': 'WAD', 'path': '170908_061512416_Camera_6.jpg', 'mask_path': '170908_061512416_Camera_6_instanceIds.png'}, {'id': '170908_061512555_Camera_5', 'source': 'WAD', 'path': '170908_061512555_Camera_5.jpg', 'mask_path': '170908_061512555_Camera_5_instanceIds.png'}, {'id': '170908_061512555_Camera_6', 'source': 'WAD', 'path': '170908_061512555_Camera_6.jpg', 'mask_path': '170908_061512555_Camera_6_instanceIds.png'}, {'id': '170908_061512694_Camera_5', 'source': 'WAD', 'path': '170908_061512694_Camera_5.jpg', 'mask_path': '170908_061512694_Camera_5_instanceIds.png'}, {'id': '170908_061512694_Camera_6', 'source': 'WAD', 'path': '170908_061512694_Camera_6.jpg', 'mask_path': '170908_061512694_Camera_6_instanceIds.png'}, {'id': '170908_061512833_Camera_5', 'source': 'WAD', 'path': '170908_061512833_Camera_5.jpg', 'mask_path': '170908_061512833_Camera_5_instanceIds.png'}, {'id': '170908_061512833_Camera_6', 'source': 'WAD', 'path': '170908_061512833_Camera_6.jpg', 'mask_path': '170908_061512833_Camera_6_instanceIds.png'}, {'id': '170908_061512972_Camera_5', 'source': 'WAD', 'path': '170908_061512972_Camera_5.jpg', 'mask_path': '170908_061512972_Camera_5_instanceIds.png'}, {'id': '170908_061512972_Camera_6', 'source': 'WAD', 'path': '170908_061512972_Camera_6.jpg', 'mask_path': '170908_061512972_Camera_6_instanceIds.png'}, {'id': '170908_061513111_Camera_6', 'source': 'WAD', 'path': '170908_061513111_Camera_6.jpg', 'mask_path': '170908_061513111_Camera_6_instanceIds.png'}, {'id': '170908_061513250_Camera_5', 'source': 'WAD', 'path': '170908_061513250_Camera_5.jpg', 'mask_path': '170908_061513250_Camera_5_instanceIds.png'}, {'id': '170908_061513250_Camera_6', 'source': 'WAD', 'path': '170908_061513250_Camera_6.jpg', 'mask_path': '170908_061513250_Camera_6_instanceIds.png'}, {'id': '170908_061513389_Camera_5', 'source': 'WAD', 'path': '170908_061513389_Camera_5.jpg', 'mask_path': '170908_061513389_Camera_5_instanceIds.png'}, {'id': '170908_061513389_Camera_6', 'source': 'WAD', 'path': '170908_061513389_Camera_6.jpg', 'mask_path': '170908_061513389_Camera_6_instanceIds.png'}, {'id': '170908_061513528_Camera_6', 'source': 'WAD', 'path': '170908_061513528_Camera_6.jpg', 'mask_path': '170908_061513528_Camera_6_instanceIds.png'}, {'id': '170908_061513667_Camera_5', 'source': 'WAD', 'path': '170908_061513667_Camera_5.jpg', 'mask_path': '170908_061513667_Camera_5_instanceIds.png'}, {'id': '170908_061513667_Camera_6', 'source': 'WAD', 'path': '170908_061513667_Camera_6.jpg', 'mask_path': '170908_061513667_Camera_6_instanceIds.png'}, {'id': '170908_061513806_Camera_6', 'source': 'WAD', 'path': '170908_061513806_Camera_6.jpg', 'mask_path': '170908_061513806_Camera_6_instanceIds.png'}, {'id': '170908_061513945_Camera_5', 'source': 'WAD', 'path': '170908_061513945_Camera_5.jpg', 'mask_path': '170908_061513945_Camera_5_instanceIds.png'}, {'id': '170908_061513945_Camera_6', 'source': 'WAD', 'path': '170908_061513945_Camera_6.jpg', 'mask_path': '170908_061513945_Camera_6_instanceIds.png'}, {'id': '170908_061514084_Camera_5', 'source': 'WAD', 'path': '170908_061514084_Camera_5.jpg', 'mask_path': '170908_061514084_Camera_5_instanceIds.png'}, {'id': '170908_061514084_Camera_6', 'source': 'WAD', 'path': '170908_061514084_Camera_6.jpg', 'mask_path': '170908_061514084_Camera_6_instanceIds.png'}, {'id': '170908_061514223_Camera_5', 'source': 'WAD', 'path': '170908_061514223_Camera_5.jpg', 'mask_path': '170908_061514223_Camera_5_instanceIds.png'}, {'id': '170908_061514223_Camera_6', 'source': 'WAD', 'path': '170908_061514223_Camera_6.jpg', 'mask_path': '170908_061514223_Camera_6_instanceIds.png'}, {'id': '170908_061514362_Camera_5', 'source': 'WAD', 'path': '170908_061514362_Camera_5.jpg', 'mask_path': '170908_061514362_Camera_5_instanceIds.png'}, {'id': '170908_061514362_Camera_6', 'source': 'WAD', 'path': '170908_061514362_Camera_6.jpg', 'mask_path': '170908_061514362_Camera_6_instanceIds.png'}, {'id': '170908_061514501_Camera_5', 'source': 'WAD', 'path': '170908_061514501_Camera_5.jpg', 'mask_path': '170908_061514501_Camera_5_instanceIds.png'}, {'id': '170908_061514501_Camera_6', 'source': 'WAD', 'path': '170908_061514501_Camera_6.jpg', 'mask_path': '170908_061514501_Camera_6_instanceIds.png'}, {'id': '170908_061514640_Camera_5', 'source': 'WAD', 'path': '170908_061514640_Camera_5.jpg', 'mask_path': '170908_061514640_Camera_5_instanceIds.png'}, {'id': '170908_061514640_Camera_6', 'source': 'WAD', 'path': '170908_061514640_Camera_6.jpg', 'mask_path': '170908_061514640_Camera_6_instanceIds.png'}, {'id': '170908_061514779_Camera_5', 'source': 'WAD', 'path': '170908_061514779_Camera_5.jpg', 'mask_path': '170908_061514779_Camera_5_instanceIds.png'}, {'id': '170908_061514779_Camera_6', 'source': 'WAD', 'path': '170908_061514779_Camera_6.jpg', 'mask_path': '170908_061514779_Camera_6_instanceIds.png'}, {'id': '170908_061514918_Camera_5', 'source': 'WAD', 'path': '170908_061514918_Camera_5.jpg', 'mask_path': '170908_061514918_Camera_5_instanceIds.png'}, {'id': '170908_061514918_Camera_6', 'source': 'WAD', 'path': '170908_061514918_Camera_6.jpg', 'mask_path': '170908_061514918_Camera_6_instanceIds.png'}, {'id': '170908_061515057_Camera_5', 'source': 'WAD', 'path': '170908_061515057_Camera_5.jpg', 'mask_path': '170908_061515057_Camera_5_instanceIds.png'}, {'id': '170908_061515057_Camera_6', 'source': 'WAD', 'path': '170908_061515057_Camera_6.jpg', 'mask_path': '170908_061515057_Camera_6_instanceIds.png'}, {'id': '170908_061515196_Camera_5', 'source': 'WAD', 'path': '170908_061515196_Camera_5.jpg', 'mask_path': '170908_061515196_Camera_5_instanceIds.png'}, {'id': '170908_061515196_Camera_6', 'source': 'WAD', 'path': '170908_061515196_Camera_6.jpg', 'mask_path': '170908_061515196_Camera_6_instanceIds.png'}, {'id': '170908_061515335_Camera_5', 'source': 'WAD', 'path': '170908_061515335_Camera_5.jpg', 'mask_path': '170908_061515335_Camera_5_instanceIds.png'}, {'id': '170908_061515335_Camera_6', 'source': 'WAD', 'path': '170908_061515335_Camera_6.jpg', 'mask_path': '170908_061515335_Camera_6_instanceIds.png'}, {'id': '170908_061515474_Camera_5', 'source': 'WAD', 'path': '170908_061515474_Camera_5.jpg', 'mask_path': '170908_061515474_Camera_5_instanceIds.png'}, {'id': '170908_061515474_Camera_6', 'source': 'WAD', 'path': '170908_061515474_Camera_6.jpg', 'mask_path': '170908_061515474_Camera_6_instanceIds.png'}, {'id': '170908_061515613_Camera_5', 'source': 'WAD', 'path': '170908_061515613_Camera_5.jpg', 'mask_path': '170908_061515613_Camera_5_instanceIds.png'}, {'id': '170908_061515613_Camera_6', 'source': 'WAD', 'path': '170908_061515613_Camera_6.jpg', 'mask_path': '170908_061515613_Camera_6_instanceIds.png'}, {'id': '170908_061515752_Camera_5', 'source': 'WAD', 'path': '170908_061515752_Camera_5.jpg', 'mask_path': '170908_061515752_Camera_5_instanceIds.png'}, {'id': '170908_061515752_Camera_6', 'source': 'WAD', 'path': '170908_061515752_Camera_6.jpg', 'mask_path': '170908_061515752_Camera_6_instanceIds.png'}, {'id': '170908_061515891_Camera_5', 'source': 'WAD', 'path': '170908_061515891_Camera_5.jpg', 'mask_path': '170908_061515891_Camera_5_instanceIds.png'}, {'id': '170908_061515891_Camera_6', 'source': 'WAD', 'path': '170908_061515891_Camera_6.jpg', 'mask_path': '170908_061515891_Camera_6_instanceIds.png'}, {'id': '170908_061516030_Camera_5', 'source': 'WAD', 'path': '170908_061516030_Camera_5.jpg', 'mask_path': '170908_061516030_Camera_5_instanceIds.png'}, {'id': '170908_061516030_Camera_6', 'source': 'WAD', 'path': '170908_061516030_Camera_6.jpg', 'mask_path': '170908_061516030_Camera_6_instanceIds.png'}, {'id': '170908_061516169_Camera_5', 'source': 'WAD', 'path': '170908_061516169_Camera_5.jpg', 'mask_path': '170908_061516169_Camera_5_instanceIds.png'}, {'id': '170908_061516169_Camera_6', 'source': 'WAD', 'path': '170908_061516169_Camera_6.jpg', 'mask_path': '170908_061516169_Camera_6_instanceIds.png'}, {'id': '170908_061516308_Camera_5', 'source': 'WAD', 'path': '170908_061516308_Camera_5.jpg', 'mask_path': '170908_061516308_Camera_5_instanceIds.png'}, {'id': '170908_061516308_Camera_6', 'source': 'WAD', 'path': '170908_061516308_Camera_6.jpg', 'mask_path': '170908_061516308_Camera_6_instanceIds.png'}, {'id': '170908_061516447_Camera_5', 'source': 'WAD', 'path': '170908_061516447_Camera_5.jpg', 'mask_path': '170908_061516447_Camera_5_instanceIds.png'}, {'id': '170908_061516447_Camera_6', 'source': 'WAD', 'path': '170908_061516447_Camera_6.jpg', 'mask_path': '170908_061516447_Camera_6_instanceIds.png'}, {'id': '170908_061516586_Camera_5', 'source': 'WAD', 'path': '170908_061516586_Camera_5.jpg', 'mask_path': '170908_061516586_Camera_5_instanceIds.png'}, {'id': '170908_061516586_Camera_6', 'source': 'WAD', 'path': '170908_061516586_Camera_6.jpg', 'mask_path': '170908_061516586_Camera_6_instanceIds.png'}, {'id': '170908_061516725_Camera_5', 'source': 'WAD', 'path': '170908_061516725_Camera_5.jpg', 'mask_path': '170908_061516725_Camera_5_instanceIds.png'}, {'id': '170908_061516725_Camera_6', 'source': 'WAD', 'path': '170908_061516725_Camera_6.jpg', 'mask_path': '170908_061516725_Camera_6_instanceIds.png'}, {'id': '170908_061516864_Camera_5', 'source': 'WAD', 'path': '170908_061516864_Camera_5.jpg', 'mask_path': '170908_061516864_Camera_5_instanceIds.png'}, {'id': '170908_061516864_Camera_6', 'source': 'WAD', 'path': '170908_061516864_Camera_6.jpg', 'mask_path': '170908_061516864_Camera_6_instanceIds.png'}, {'id': '170908_061517003_Camera_5', 'source': 'WAD', 'path': '170908_061517003_Camera_5.jpg', 'mask_path': '170908_061517003_Camera_5_instanceIds.png'}, {'id': '170908_061517003_Camera_6', 'source': 'WAD', 'path': '170908_061517003_Camera_6.jpg', 'mask_path': '170908_061517003_Camera_6_instanceIds.png'}, {'id': '170908_061517142_Camera_5', 'source': 'WAD', 'path': '170908_061517142_Camera_5.jpg', 'mask_path': '170908_061517142_Camera_5_instanceIds.png'}, {'id': '170908_061517142_Camera_6', 'source': 'WAD', 'path': '170908_061517142_Camera_6.jpg', 'mask_path': '170908_061517142_Camera_6_instanceIds.png'}, {'id': '170908_061517281_Camera_5', 'source': 'WAD', 'path': '170908_061517281_Camera_5.jpg', 'mask_path': '170908_061517281_Camera_5_instanceIds.png'}, {'id': '170908_061517420_Camera_5', 'source': 'WAD', 'path': '170908_061517420_Camera_5.jpg', 'mask_path': '170908_061517420_Camera_5_instanceIds.png'}, {'id': '170908_061517420_Camera_6', 'source': 'WAD', 'path': '170908_061517420_Camera_6.jpg', 'mask_path': '170908_061517420_Camera_6_instanceIds.png'}, {'id': '170908_061517559_Camera_5', 'source': 'WAD', 'path': '170908_061517559_Camera_5.jpg', 'mask_path': '170908_061517559_Camera_5_instanceIds.png'}, {'id': '170908_061517559_Camera_6', 'source': 'WAD', 'path': '170908_061517559_Camera_6.jpg', 'mask_path': '170908_061517559_Camera_6_instanceIds.png'}, {'id': '170908_061517698_Camera_5', 'source': 'WAD', 'path': '170908_061517698_Camera_5.jpg', 'mask_path': '170908_061517698_Camera_5_instanceIds.png'}, {'id': '170908_061517698_Camera_6', 'source': 'WAD', 'path': '170908_061517698_Camera_6.jpg', 'mask_path': '170908_061517698_Camera_6_instanceIds.png'}, {'id': '170908_061517837_Camera_5', 'source': 'WAD', 'path': '170908_061517837_Camera_5.jpg', 'mask_path': '170908_061517837_Camera_5_instanceIds.png'}, {'id': '170908_061517837_Camera_6', 'source': 'WAD', 'path': '170908_061517837_Camera_6.jpg', 'mask_path': '170908_061517837_Camera_6_instanceIds.png'}, {'id': '170908_061517976_Camera_5', 'source': 'WAD', 'path': '170908_061517976_Camera_5.jpg', 'mask_path': '170908_061517976_Camera_5_instanceIds.png'}, {'id': '170908_061517976_Camera_6', 'source': 'WAD', 'path': '170908_061517976_Camera_6.jpg', 'mask_path': '170908_061517976_Camera_6_instanceIds.png'}, {'id': '170908_061518115_Camera_5', 'source': 'WAD', 'path': '170908_061518115_Camera_5.jpg', 'mask_path': '170908_061518115_Camera_5_instanceIds.png'}, {'id': '170908_061518115_Camera_6', 'source': 'WAD', 'path': '170908_061518115_Camera_6.jpg', 'mask_path': '170908_061518115_Camera_6_instanceIds.png'}, {'id': '170908_061518254_Camera_5', 'source': 'WAD', 'path': '170908_061518254_Camera_5.jpg', 'mask_path': '170908_061518254_Camera_5_instanceIds.png'}, {'id': '170908_061518254_Camera_6', 'source': 'WAD', 'path': '170908_061518254_Camera_6.jpg', 'mask_path': '170908_061518254_Camera_6_instanceIds.png'}, {'id': '170908_061518393_Camera_5', 'source': 'WAD', 'path': '170908_061518393_Camera_5.jpg', 'mask_path': '170908_061518393_Camera_5_instanceIds.png'}, {'id': '170908_061518393_Camera_6', 'source': 'WAD', 'path': '170908_061518393_Camera_6.jpg', 'mask_path': '170908_061518393_Camera_6_instanceIds.png'}, {'id': '170908_061518532_Camera_5', 'source': 'WAD', 'path': '170908_061518532_Camera_5.jpg', 'mask_path': '170908_061518532_Camera_5_instanceIds.png'}, {'id': '170908_061518532_Camera_6', 'source': 'WAD', 'path': '170908_061518532_Camera_6.jpg', 'mask_path': '170908_061518532_Camera_6_instanceIds.png'}]\n"
     ]
    }
   ],
   "source": [
    "dataset_train = wad_data.WADDataset()\n",
    "dataset_val = dataset_train.load_data(DATA_DIR, \"train\", val_size=0.2)\n",
    "\n",
    "dataset_train.prepare()\n",
    "dataset_val.prepare()\n",
    "\n",
    "dataset_val.save_data_to_file(os.path.join(LOGS_DIR, \"last_run_validation.pkl\"))"
   ]
  },
  {
   "cell_type": "markdown",
   "metadata": {
    "colab_type": "text",
    "id": "UUHgP9PsvYIb"
   },
   "source": [
    "## Training"
   ]
  },
  {
   "cell_type": "code",
   "execution_count": null,
   "metadata": {
    "colab": {
     "autoexec": {
      "startup": false,
      "wait_interval": 0.0
     },
     "base_uri": "https://localhost:8080/",
     "height": 684.0
    },
    "colab_type": "code",
    "id": "PK_mhBMzvW7D",
    "outputId": "2548bddd-ff94-4b8d-af4f-63131aab93aa",
    "scrolled": true,
    "collapsed": false
   },
   "outputs": [
    {
     "name": "stdout",
     "output_type": "stream",
     "text": [
      "\n",
      "Starting at epoch 0. LR=0.001\n",
      "\n",
      "Checkpoint Path: C:\\Users\\tmthy\\Documents\\prog\\python3\\coml\\MaskTrack_RCNN\\project\\logs\\wad20180619T1145\\mask_rcnn_wad_{epoch:04d}.h5\n",
      "Selecting layers to train\n",
      "fpn_c5p5               (Conv2D)\n",
      "fpn_c4p4               (Conv2D)\n",
      "fpn_c3p3               (Conv2D)\n",
      "fpn_c2p2               (Conv2D)\n",
      "fpn_p5                 (Conv2D)\n",
      "fpn_p2                 (Conv2D)\n",
      "fpn_p3                 (Conv2D)\n",
      "fpn_p4                 (Conv2D)\n",
      "In model:  rpn_model\n",
      "    rpn_conv_shared        (Conv2D)\n",
      "    rpn_class_raw          (Conv2D)\n",
      "    rpn_bbox_pred          (Conv2D)\n",
      "mrcnn_mask_conv1       (TimeDistributed)\n",
      "mrcnn_mask_bn1         (TimeDistributed)\n",
      "mrcnn_mask_conv2       (TimeDistributed)\n",
      "mrcnn_mask_bn2         (TimeDistributed)\n",
      "mrcnn_class_conv1      (TimeDistributed)\n",
      "mrcnn_class_bn1        (TimeDistributed)\n",
      "mrcnn_mask_conv3       (TimeDistributed)\n",
      "mrcnn_mask_bn3         (TimeDistributed)\n",
      "mrcnn_class_conv2      (TimeDistributed)\n",
      "mrcnn_class_bn2        (TimeDistributed)\n",
      "mrcnn_mask_conv4       (TimeDistributed)\n",
      "mrcnn_mask_bn4         (TimeDistributed)\n",
      "mrcnn_bbox_fc          (TimeDistributed)\n",
      "mrcnn_mask_deconv      (TimeDistributed)\n",
      "mrcnn_class_logits     (TimeDistributed)\n",
      "mrcnn_mask             (TimeDistributed)\n"
     ]
    },
    {
     "name": "stderr",
     "output_type": "stream",
     "text": [
      "c:\\program files\\python36\\lib\\site-packages\\tensorflow\\python\\ops\\gradients_impl.py:100: UserWarning: Converting sparse IndexedSlices to a dense Tensor of unknown shape. This may consume a large amount of memory.\n",
      "  \"Converting sparse IndexedSlices to a dense Tensor of unknown shape. \"\n"
     ]
    },
    {
     "name": "stdout",
     "output_type": "stream",
     "text": [
      "Epoch 1/1\n"
     ]
    },
    {
     "name": "stderr",
     "output_type": "stream",
     "text": [
      "C:\\Users\\tmthy\\AppData\\Roaming\\Python\\Python36\\site-packages\\skimage\\transform\\_warps.py:110: UserWarning: Anti-aliasing will be enabled by default in skimage 0.15 to avoid aliasing artifacts when down-sampling images.\n",
      "  warn(\"Anti-aliasing will be enabled by default in skimage 0.15 to \"\n",
      "C:\\Users\\tmthy\\AppData\\Roaming\\Python\\Python36\\site-packages\\skimage\\transform\\_warps.py:110: UserWarning: Anti-aliasing will be enabled by default in skimage 0.15 to avoid aliasing artifacts when down-sampling images.\n",
      "  warn(\"Anti-aliasing will be enabled by default in skimage 0.15 to \"\n",
      "C:\\Users\\tmthy\\AppData\\Roaming\\Python\\Python36\\site-packages\\skimage\\transform\\_warps.py:110: UserWarning: Anti-aliasing will be enabled by default in skimage 0.15 to avoid aliasing artifacts when down-sampling images.\n",
      "  warn(\"Anti-aliasing will be enabled by default in skimage 0.15 to \"\n"
     ]
    },
    {
     "name": "stdout",
     "output_type": "stream",
     "text": [
      "\r",
      "   1/1000 [..............................] - ETA: 16:40:28 - loss: 45.2028 - rpn_class_loss: 21.6296 - rpn_bbox_loss: 17.1813 - mrcnn_class_loss: 6.3920 - mrcnn_bbox_loss: 0.0000e+00 - mrcnn_mask_loss: 0.0000e+00"
     ]
    },
    {
     "name": "stderr",
     "output_type": "stream",
     "text": [
      "C:\\Users\\tmthy\\AppData\\Roaming\\Python\\Python36\\site-packages\\skimage\\transform\\_warps.py:110: UserWarning: Anti-aliasing will be enabled by default in skimage 0.15 to avoid aliasing artifacts when down-sampling images.\n",
      "  warn(\"Anti-aliasing will be enabled by default in skimage 0.15 to \"\n",
      "C:\\Users\\tmthy\\AppData\\Roaming\\Python\\Python36\\site-packages\\skimage\\transform\\_warps.py:110: UserWarning: Anti-aliasing will be enabled by default in skimage 0.15 to avoid aliasing artifacts when down-sampling images.\n",
      "  warn(\"Anti-aliasing will be enabled by default in skimage 0.15 to \"\n"
     ]
    },
    {
     "name": "stdout",
     "output_type": "stream",
     "text": [
      "\b\b\b\b\b\b\b\b\b\b\b\b\b\b\b\b\b\b\b\b\b\b\b\b\b\b\b\b\b\b\b\b\b\b\b\b\b\b\b\b\b\b\b\b\b\b\b\b\b\b\b\b\b\b\b\b\b\b\b\b\b\b\b\b\b\b\b\b\b\b\b\b\b\b\b\b\b\b\b\b\b\b\b\b\b\b\b\b\b\b\b\b\b\b\b\b\b\b\b\b\b\b\b\b\b\b\b\b\b\b\b\b\b\b\b\b\b\b\b\b\b\b\b\b\b\b\b\b\b\b\b\b\b\b\b\b\b\b\b\b\b\b\b\b\b\b\b\b\b\b\b\b\b\b\b\b\b\b\b\b\b\b\b\b\b\b\b\b\b\b\b\b\b\b\b\b\b\b\b\b\b\b\b\b\b\b\b\b\b\b\b\b\b\b\b\b\b\b\b\b\b\b\b\b\b\b\b\b\b\b\b\b\r",
      "   2/1000 [..............................] - ETA: 16:17:42 - loss: 41.8387 - rpn_class_loss: 20.3404 - rpn_bbox_loss: 17.9864 - mrcnn_class_loss: 3.5119 - mrcnn_bbox_loss: 0.0000e+00 - mrcnn_mask_loss: 0.0000e+00"
     ]
    },
    {
     "name": "stderr",
     "output_type": "stream",
     "text": [
      "C:\\Users\\tmthy\\AppData\\Roaming\\Python\\Python36\\site-packages\\skimage\\transform\\_warps.py:110: UserWarning: Anti-aliasing will be enabled by default in skimage 0.15 to avoid aliasing artifacts when down-sampling images.\n",
      "  warn(\"Anti-aliasing will be enabled by default in skimage 0.15 to \"\n",
      "C:\\Users\\tmthy\\AppData\\Roaming\\Python\\Python36\\site-packages\\skimage\\transform\\_warps.py:110: UserWarning: Anti-aliasing will be enabled by default in skimage 0.15 to avoid aliasing artifacts when down-sampling images.\n",
      "  warn(\"Anti-aliasing will be enabled by default in skimage 0.15 to \"\n"
     ]
    },
    {
     "name": "stdout",
     "output_type": "stream",
     "text": [
      "\b\b\b\b\b\b\b\b\b\b\b\b\b\b\b\b\b\b\b\b\b\b\b\b\b\b\b\b\b\b\b\b\b\b\b\b\b\b\b\b\b\b\b\b\b\b\b\b\b\b\b\b\b\b\b\b\b\b\b\b\b\b\b\b\b\b\b\b\b\b\b\b\b\b\b\b\b\b\b\b\b\b\b\b\b\b\b\b\b\b\b\b\b\b\b\b\b\b\b\b\b\b\b\b\b\b\b\b\b\b\b\b\b\b\b\b\b\b\b\b\b\b\b\b\b\b\b\b\b\b\b\b\b\b\b\b\b\b\b\b\b\b\b\b\b\b\b\b\b\b\b\b\b\b\b\b\b\b\b\b\b\b\b\b\b\b\b\b\b\b\b\b\b\b\b\b\b\b\b\b\b\b\b\b\b\b\b\b\b\b\b\b\b\b\b\b\b\b\b\b\b\b\b\b\b\b\b\b\b\b\b\b\r",
      "   3/1000 [..............................] - ETA: 16:02:33 - loss: 36.8647 - rpn_class_loss: 18.8251 - rpn_bbox_loss: 15.6976 - mrcnn_class_loss: 2.3420 - mrcnn_bbox_loss: 0.0000e+00 - mrcnn_mask_loss: 0.0000e+00"
     ]
    },
    {
     "name": "stderr",
     "output_type": "stream",
     "text": [
      "C:\\Users\\tmthy\\AppData\\Roaming\\Python\\Python36\\site-packages\\skimage\\transform\\_warps.py:110: UserWarning: Anti-aliasing will be enabled by default in skimage 0.15 to avoid aliasing artifacts when down-sampling images.\n",
      "  warn(\"Anti-aliasing will be enabled by default in skimage 0.15 to \"\n",
      "C:\\Users\\tmthy\\AppData\\Roaming\\Python\\Python36\\site-packages\\skimage\\transform\\_warps.py:110: UserWarning: Anti-aliasing will be enabled by default in skimage 0.15 to avoid aliasing artifacts when down-sampling images.\n",
      "  warn(\"Anti-aliasing will be enabled by default in skimage 0.15 to \"\n"
     ]
    },
    {
     "name": "stdout",
     "output_type": "stream",
     "text": [
      "\b\b\b\b\b\b\b\b\b\b\b\b\b\b\b\b\b\b\b\b\b\b\b\b\b\b\b\b\b\b\b\b\b\b\b\b\b\b\b\b\b\b\b\b\b\b\b\b\b\b\b\b\b\b\b\b\b\b\b\b\b\b\b\b\b\b\b\b\b\b\b\b\b\b\b\b\b\b\b\b\b\b\b\b\b\b\b\b\b\b\b\b\b\b\b\b\b\b\b\b\b\b\b\b\b\b\b\b\b\b\b\b\b\b\b\b\b\b\b\b\b\b\b\b\b\b\b\b\b\b\b\b\b\b\b\b\b\b\b\b\b\b\b\b\b\b\b\b\b\b\b\b\b\b\b\b\b\b\b\b\b\b\b\b\b\b\b\b\b\b\b\b\b\b\b\b\b\b\b\b\b\b\b\b\b\b\b\b\b\b\b\b\b\b\b\b\b\b\b\b\b\b\b\b\b\b\b\b\b\b\b\b\r",
      "   4/1000 [..............................] - ETA: 16:09:30 - loss: 32.4025 - rpn_class_loss: 16.1997 - rpn_bbox_loss: 14.4463 - mrcnn_class_loss: 1.7565 - mrcnn_bbox_loss: 0.0000e+00 - mrcnn_mask_loss: 0.0000e+00"
     ]
    },
    {
     "name": "stderr",
     "output_type": "stream",
     "text": [
      "C:\\Users\\tmthy\\AppData\\Roaming\\Python\\Python36\\site-packages\\skimage\\transform\\_warps.py:110: UserWarning: Anti-aliasing will be enabled by default in skimage 0.15 to avoid aliasing artifacts when down-sampling images.\n",
      "  warn(\"Anti-aliasing will be enabled by default in skimage 0.15 to \"\n",
      "C:\\Users\\tmthy\\AppData\\Roaming\\Python\\Python36\\site-packages\\skimage\\transform\\_warps.py:110: UserWarning: Anti-aliasing will be enabled by default in skimage 0.15 to avoid aliasing artifacts when down-sampling images.\n",
      "  warn(\"Anti-aliasing will be enabled by default in skimage 0.15 to \"\n"
     ]
    },
    {
     "name": "stdout",
     "output_type": "stream",
     "text": [
      "\b\b\b\b\b\b\b\b\b\b\b\b\b\b\b\b\b\b\b\b\b\b\b\b\b\b\b\b\b\b\b\b\b\b\b\b\b\b\b\b\b\b\b\b\b\b\b\b\b\b\b\b\b\b\b\b\b\b\b\b\b\b\b\b\b\b\b\b\b\b\b\b\b\b\b\b\b\b\b\b\b\b\b\b\b\b\b\b\b\b\b\b\b\b\b\b\b\b\b\b\b\b\b\b\b\b\b\b\b\b\b\b\b\b\b\b\b\b\b\b\b\b\b\b\b\b\b\b\b\b\b\b\b\b\b\b\b\b\b\b\b\b\b\b\b\b\b\b\b\b\b\b\b\b\b\b\b\b\b\b\b\b\b\b\b\b\b\b\b\b\b\b\b\b\b\b\b\b\b\b\b\b\b\b\b\b\b\b\b\b\b\b\b\b\b\b\b\b\b\b\b\b\b\b\b\b\b\b\b\b\b\b\r",
      "   5/1000 [..............................] - ETA: 16:06:15 - loss: 28.3963 - rpn_class_loss: 13.4696 - rpn_bbox_loss: 13.5215 - mrcnn_class_loss: 1.4052 - mrcnn_bbox_loss: 0.0000e+00 - mrcnn_mask_loss: 0.0000e+00"
     ]
    },
    {
     "name": "stderr",
     "output_type": "stream",
     "text": [
      "C:\\Users\\tmthy\\AppData\\Roaming\\Python\\Python36\\site-packages\\skimage\\transform\\_warps.py:110: UserWarning: Anti-aliasing will be enabled by default in skimage 0.15 to avoid aliasing artifacts when down-sampling images.\n",
      "  warn(\"Anti-aliasing will be enabled by default in skimage 0.15 to \"\n",
      "C:\\Users\\tmthy\\AppData\\Roaming\\Python\\Python36\\site-packages\\skimage\\transform\\_warps.py:110: UserWarning: Anti-aliasing will be enabled by default in skimage 0.15 to avoid aliasing artifacts when down-sampling images.\n",
      "  warn(\"Anti-aliasing will be enabled by default in skimage 0.15 to \"\n"
     ]
    },
    {
     "name": "stdout",
     "output_type": "stream",
     "text": [
      "\b\b\b\b\b\b\b\b\b\b\b\b\b\b\b\b\b\b\b\b\b\b\b\b\b\b\b\b\b\b\b\b\b\b\b\b\b\b\b\b\b\b\b\b\b\b\b\b\b\b\b\b\b\b\b\b\b\b\b\b\b\b\b\b\b\b\b\b\b\b\b\b\b\b\b\b\b\b\b\b\b\b\b\b\b\b\b\b\b\b\b\b\b\b\b\b\b\b\b\b\b\b\b\b\b\b\b\b\b\b\b\b\b\b\b\b\b\b\b\b\b\b\b\b\b\b\b\b\b\b\b\b\b\b\b\b\b\b\b\b\b\b\b\b\b\b\b\b\b\b\b\b\b\b\b\b\b\b\b\b\b\b\b\b\b\b\b\b\b\b\b\b\b\b\b\b\b\b\b\b\b\b\b\b\b\b\b\b\b\b\b\b\b\b\b\b\b\b\b\b\b\b\b\b\b\b\b\b\b\b\b\b\r",
      "   6/1000 [..............................] - ETA: 16:10:56 - loss: 28.6147 - rpn_class_loss: 11.7891 - rpn_bbox_loss: 13.7714 - mrcnn_class_loss: 1.1951 - mrcnn_bbox_loss: 1.4759 - mrcnn_mask_loss: 0.3832        "
     ]
    },
    {
     "name": "stderr",
     "output_type": "stream",
     "text": [
      "C:\\Users\\tmthy\\AppData\\Roaming\\Python\\Python36\\site-packages\\skimage\\transform\\_warps.py:110: UserWarning: Anti-aliasing will be enabled by default in skimage 0.15 to avoid aliasing artifacts when down-sampling images.\n",
      "  warn(\"Anti-aliasing will be enabled by default in skimage 0.15 to \"\n",
      "C:\\Users\\tmthy\\AppData\\Roaming\\Python\\Python36\\site-packages\\skimage\\transform\\_warps.py:110: UserWarning: Anti-aliasing will be enabled by default in skimage 0.15 to avoid aliasing artifacts when down-sampling images.\n",
      "  warn(\"Anti-aliasing will be enabled by default in skimage 0.15 to \"\n"
     ]
    },
    {
     "name": "stdout",
     "output_type": "stream",
     "text": [
      "\b\b\b\b\b\b\b\b\b\b\b\b\b\b\b\b\b\b\b\b\b\b\b\b\b\b\b\b\b\b\b\b\b\b\b\b\b\b\b\b\b\b\b\b\b\b\b\b\b\b\b\b\b\b\b\b\b\b\b\b\b\b\b\b\b\b\b\b\b\b\b\b\b\b\b\b\b\b\b\b\b\b\b\b\b\b\b\b\b\b\b\b\b\b\b\b\b\b\b\b\b\b\b\b\b\b\b\b\b\b\b\b\b\b\b\b\b\b\b\b\b\b\b\b\b\b\b\b\b\b\b\b\b\b\b\b\b\b\b\b\b\b\b\b\b\b\b\b\b\b\b\b\b\b\b\b\b\b\b\b\b\b\b\b\b\b\b\b\b\b\b\b\b\b\b\b\b\b\b\b\b\b\b\b\b\b\b\b\b\b\b\b\b\b\b\b\b\b\b\b\b\b\b\b\r",
      "   7/1000 [..............................] - ETA: 16:15:57 - loss: 27.0561 - rpn_class_loss: 10.5484 - rpn_bbox_loss: 13.8898 - mrcnn_class_loss: 1.0244 - mrcnn_bbox_loss: 1.2651 - mrcnn_mask_loss: 0.3284"
     ]
    },
    {
     "name": "stderr",
     "output_type": "stream",
     "text": [
      "C:\\Users\\tmthy\\AppData\\Roaming\\Python\\Python36\\site-packages\\skimage\\transform\\_warps.py:110: UserWarning: Anti-aliasing will be enabled by default in skimage 0.15 to avoid aliasing artifacts when down-sampling images.\n",
      "  warn(\"Anti-aliasing will be enabled by default in skimage 0.15 to \"\n",
      "C:\\Users\\tmthy\\AppData\\Roaming\\Python\\Python36\\site-packages\\skimage\\transform\\_warps.py:110: UserWarning: Anti-aliasing will be enabled by default in skimage 0.15 to avoid aliasing artifacts when down-sampling images.\n",
      "  warn(\"Anti-aliasing will be enabled by default in skimage 0.15 to \"\n"
     ]
    },
    {
     "name": "stdout",
     "output_type": "stream",
     "text": [
      "\b\b\b\b\b\b\b\b\b\b\b\b\b\b\b\b\b\b\b\b\b\b\b\b\b\b\b\b\b\b\b\b\b\b\b\b\b\b\b\b\b\b\b\b\b\b\b\b\b\b\b\b\b\b\b\b\b\b\b\b\b\b\b\b\b\b\b\b\b\b\b\b\b\b\b\b\b\b\b\b\b\b\b\b\b\b\b\b\b\b\b\b\b\b\b\b\b\b\b\b\b\b\b\b\b\b\b\b\b\b\b\b\b\b\b\b\b\b\b\b\b\b\b\b\b\b\b\b\b\b\b\b\b\b\b\b\b\b\b\b\b\b\b\b\b\b\b\b\b\b\b\b\b\b\b\b\b\b\b\b\b\b\b\b\b\b\b\b\b\b\b\b\b\b\b\b\b\b\b\b\b\b\b\b\b\b\b\b\b\b\b\b\b\b\b\b\b\b\b\b\b\b\b\b\r",
      "   8/1000 [..............................] - ETA: 16:16:55 - loss: 24.7250 - rpn_class_loss: 9.5498 - rpn_bbox_loss: 12.8845 - mrcnn_class_loss: 0.8963 - mrcnn_bbox_loss: 1.1069 - mrcnn_mask_loss: 0.2874 "
     ]
    },
    {
     "name": "stderr",
     "output_type": "stream",
     "text": [
      "C:\\Users\\tmthy\\AppData\\Roaming\\Python\\Python36\\site-packages\\skimage\\transform\\_warps.py:110: UserWarning: Anti-aliasing will be enabled by default in skimage 0.15 to avoid aliasing artifacts when down-sampling images.\n",
      "  warn(\"Anti-aliasing will be enabled by default in skimage 0.15 to \"\n",
      "C:\\Users\\tmthy\\AppData\\Roaming\\Python\\Python36\\site-packages\\skimage\\transform\\_warps.py:110: UserWarning: Anti-aliasing will be enabled by default in skimage 0.15 to avoid aliasing artifacts when down-sampling images.\n",
      "  warn(\"Anti-aliasing will be enabled by default in skimage 0.15 to \"\n"
     ]
    },
    {
     "name": "stdout",
     "output_type": "stream",
     "text": [
      "\b\b\b\b\b\b\b\b\b\b\b\b\b\b\b\b\b\b\b\b\b\b\b\b\b\b\b\b\b\b\b\b\b\b\b\b\b\b\b\b\b\b\b\b\b\b\b\b\b\b\b\b\b\b\b\b\b\b\b\b\b\b\b\b\b\b\b\b\b\b\b\b\b\b\b\b\b\b\b\b\b\b\b\b\b\b\b\b\b\b\b\b\b\b\b\b\b\b\b\b\b\b\b\b\b\b\b\b\b\b\b\b\b\b\b\b\b\b\b\b\b\b\b\b\b\b\b\b\b\b\b\b\b\b\b\b\b\b\b\b\b\b\b\b\b\b\b\b\b\b\b\b\b\b\b\b\b\b\b\b\b\b\b\b\b\b\b\b\b\b\b\b\b\b\b\b\b\b\b\b\b\b\b\b\b\b\b\b\b\b\b\b\b\b\b\b\b\b\b\b\b\b\b\r",
      "   9/1000 [..............................] - ETA: 16:20:03 - loss: 23.5547 - rpn_class_loss: 8.9235 - rpn_bbox_loss: 12.5951 - mrcnn_class_loss: 0.7968 - mrcnn_bbox_loss: 0.9839 - mrcnn_mask_loss: 0.2554"
     ]
    },
    {
     "name": "stderr",
     "output_type": "stream",
     "text": [
      "C:\\Users\\tmthy\\AppData\\Roaming\\Python\\Python36\\site-packages\\skimage\\transform\\_warps.py:110: UserWarning: Anti-aliasing will be enabled by default in skimage 0.15 to avoid aliasing artifacts when down-sampling images.\n",
      "  warn(\"Anti-aliasing will be enabled by default in skimage 0.15 to \"\n",
      "C:\\Users\\tmthy\\AppData\\Roaming\\Python\\Python36\\site-packages\\skimage\\transform\\_warps.py:110: UserWarning: Anti-aliasing will be enabled by default in skimage 0.15 to avoid aliasing artifacts when down-sampling images.\n",
      "  warn(\"Anti-aliasing will be enabled by default in skimage 0.15 to \"\n"
     ]
    },
    {
     "name": "stdout",
     "output_type": "stream",
     "text": [
      "\b\b\b\b\b\b\b\b\b\b\b\b\b\b\b\b\b\b\b\b\b\b\b\b\b\b\b\b\b\b\b\b\b\b\b\b\b\b\b\b\b\b\b\b\b\b\b\b\b\b\b\b\b\b\b\b\b\b\b\b\b\b\b\b\b\b\b\b\b\b\b\b\b\b\b\b\b\b\b\b\b\b\b\b\b\b\b\b\b\b\b\b\b\b\b\b\b\b\b\b\b\b\b\b\b\b\b\b\b\b\b\b\b\b\b\b\b\b\b\b\b\b\b\b\b\b\b\b\b\b\b\b\b\b\b\b\b\b\b\b\b\b\b\b\b\b\b\b\b\b\b\b\b\b\b\b\b\b\b\b\b\b\b\b\b\b\b\b\b\b\b\b\b\b\b\b\b\b\b\b\b\b\b\b\b\b\b\b\b\b\b\b\b\b\b\b\b\b\b\b\b\b\b\r",
      "  10/1000 [..............................] - ETA: 16:24:04 - loss: 22.2049 - rpn_class_loss: 8.3604 - rpn_bbox_loss: 12.0119 - mrcnn_class_loss: 0.7171 - mrcnn_bbox_loss: 0.8855 - mrcnn_mask_loss: 0.2299"
     ]
    },
    {
     "name": "stderr",
     "output_type": "stream",
     "text": [
      "C:\\Users\\tmthy\\AppData\\Roaming\\Python\\Python36\\site-packages\\skimage\\transform\\_warps.py:110: UserWarning: Anti-aliasing will be enabled by default in skimage 0.15 to avoid aliasing artifacts when down-sampling images.\n",
      "  warn(\"Anti-aliasing will be enabled by default in skimage 0.15 to \"\n",
      "C:\\Users\\tmthy\\AppData\\Roaming\\Python\\Python36\\site-packages\\skimage\\transform\\_warps.py:110: UserWarning: Anti-aliasing will be enabled by default in skimage 0.15 to avoid aliasing artifacts when down-sampling images.\n",
      "  warn(\"Anti-aliasing will be enabled by default in skimage 0.15 to \"\n"
     ]
    },
    {
     "name": "stdout",
     "output_type": "stream",
     "text": [
      "\b\b\b\b\b\b\b\b\b\b\b\b\b\b\b\b\b\b\b\b\b\b\b\b\b\b\b\b\b\b\b\b\b\b\b\b\b\b\b\b\b\b\b\b\b\b\b\b\b\b\b\b\b\b\b\b\b\b\b\b\b\b\b\b\b\b\b\b\b\b\b\b\b\b\b\b\b\b\b\b\b\b\b\b\b\b\b\b\b\b\b\b\b\b\b\b\b\b\b\b\b\b\b\b\b\b\b\b\b\b\b\b\b\b\b\b\b\b\b\b\b\b\b\b\b\b\b\b\b\b\b\b\b\b\b\b\b\b\b\b\b\b\b\b\b\b\b\b\b\b\b\b\b\b\b\b\b\b\b\b\b\b\b\b\b\b\b\b\b\b\b\b\b\b\b\b\b\b\b\b\b\b\b\b\b\b\b\b\b\b\b\b\b\b\b\b\b\b\b\b\b\b\b\r",
      "  11/1000 [..............................] - ETA: 16:18:38 - loss: 21.0563 - rpn_class_loss: 7.9043 - rpn_bbox_loss: 11.4861 - mrcnn_class_loss: 0.6519 - mrcnn_bbox_loss: 0.8050 - mrcnn_mask_loss: 0.2090"
     ]
    },
    {
     "name": "stderr",
     "output_type": "stream",
     "text": [
      "C:\\Users\\tmthy\\AppData\\Roaming\\Python\\Python36\\site-packages\\skimage\\transform\\_warps.py:110: UserWarning: Anti-aliasing will be enabled by default in skimage 0.15 to avoid aliasing artifacts when down-sampling images.\n",
      "  warn(\"Anti-aliasing will be enabled by default in skimage 0.15 to \"\n",
      "C:\\Users\\tmthy\\AppData\\Roaming\\Python\\Python36\\site-packages\\skimage\\transform\\_warps.py:110: UserWarning: Anti-aliasing will be enabled by default in skimage 0.15 to avoid aliasing artifacts when down-sampling images.\n",
      "  warn(\"Anti-aliasing will be enabled by default in skimage 0.15 to \"\n"
     ]
    },
    {
     "name": "stdout",
     "output_type": "stream",
     "text": [
      "\b\b\b\b\b\b\b\b\b\b\b\b\b\b\b\b\b\b\b\b\b\b\b\b\b\b\b\b\b\b\b\b\b\b\b\b\b\b\b\b\b\b\b\b\b\b\b\b\b\b\b\b\b\b\b\b\b\b\b\b\b\b\b\b\b\b\b\b\b\b\b\b\b\b\b\b\b\b\b\b\b\b\b\b\b\b\b\b\b\b\b\b\b\b\b\b\b\b\b\b\b\b\b\b\b\b\b\b\b\b\b\b\b\b\b\b\b\b\b\b\b\b\b\b\b\b\b\b\b\b\b\b\b\b\b\b\b\b\b\b\b\b\b\b\b\b\b\b\b\b\b\b\b\b\b\b\b\b\b\b\b\b\b\b\b\b\b\b\b\b\b\b\b\b\b\b\b\b\b\b\b\b\b\b\b\b\b\b\b\b\b\b\b\b\b\b\b\b\b\b\b\b\b\r",
      "  12/1000 [..............................] - ETA: 16:16:42 - loss: 20.2663 - rpn_class_loss: 7.5232 - rpn_bbox_loss: 11.2160 - mrcnn_class_loss: 0.5976 - mrcnn_bbox_loss: 0.7379 - mrcnn_mask_loss: 0.1916"
     ]
    },
    {
     "name": "stderr",
     "output_type": "stream",
     "text": [
      "C:\\Users\\tmthy\\AppData\\Roaming\\Python\\Python36\\site-packages\\skimage\\transform\\_warps.py:110: UserWarning: Anti-aliasing will be enabled by default in skimage 0.15 to avoid aliasing artifacts when down-sampling images.\n",
      "  warn(\"Anti-aliasing will be enabled by default in skimage 0.15 to \"\n",
      "C:\\Users\\tmthy\\AppData\\Roaming\\Python\\Python36\\site-packages\\skimage\\transform\\_warps.py:110: UserWarning: Anti-aliasing will be enabled by default in skimage 0.15 to avoid aliasing artifacts when down-sampling images.\n",
      "  warn(\"Anti-aliasing will be enabled by default in skimage 0.15 to \"\n"
     ]
    },
    {
     "name": "stdout",
     "output_type": "stream",
     "text": [
      "\b\b\b\b\b\b\b\b\b\b\b\b\b\b\b\b\b\b\b\b\b\b\b\b\b\b\b\b\b\b\b\b\b\b\b\b\b\b\b\b\b\b\b\b\b\b\b\b\b\b\b\b\b\b\b\b\b\b\b\b\b\b\b\b\b\b\b\b\b\b\b\b\b\b\b\b\b\b\b\b\b\b\b\b\b\b\b\b\b\b\b\b\b\b\b\b\b\b\b\b\b\b\b\b\b\b\b\b\b\b\b\b\b\b\b\b\b\b\b\b\b\b\b\b\b\b\b\b\b\b\b\b\b\b\b\b\b\b\b\b\b\b\b\b\b\b\b\b\b\b\b\b\b\b\b\b\b\b\b\b\b\b\b\b\b\b\b\b\b\b\b\b\b\b\b\b\b\b\b\b\b\b\b\b\b\b\b\b\b\b\b\b\b\b\b\b\b\b\b\b\b\b\b\r",
      "  13/1000 [..............................] - ETA: 16:14:08 - loss: 19.6116 - rpn_class_loss: 7.1467 - rpn_bbox_loss: 11.0553 - mrcnn_class_loss: 0.5516 - mrcnn_bbox_loss: 0.6812 - mrcnn_mask_loss: 0.1768"
     ]
    },
    {
     "name": "stderr",
     "output_type": "stream",
     "text": [
      "C:\\Users\\tmthy\\AppData\\Roaming\\Python\\Python36\\site-packages\\skimage\\transform\\_warps.py:110: UserWarning: Anti-aliasing will be enabled by default in skimage 0.15 to avoid aliasing artifacts when down-sampling images.\n",
      "  warn(\"Anti-aliasing will be enabled by default in skimage 0.15 to \"\n",
      "C:\\Users\\tmthy\\AppData\\Roaming\\Python\\Python36\\site-packages\\skimage\\transform\\_warps.py:110: UserWarning: Anti-aliasing will be enabled by default in skimage 0.15 to avoid aliasing artifacts when down-sampling images.\n",
      "  warn(\"Anti-aliasing will be enabled by default in skimage 0.15 to \"\n"
     ]
    },
    {
     "name": "stdout",
     "output_type": "stream",
     "text": [
      "\b\b\b\b\b\b\b\b\b\b\b\b\b\b\b\b\b\b\b\b\b\b\b\b\b\b\b\b\b\b\b\b\b\b\b\b\b\b\b\b\b\b\b\b\b\b\b\b\b\b\b\b\b\b\b\b\b\b\b\b\b\b\b\b\b\b\b\b\b\b\b\b\b\b\b\b\b\b\b\b\b\b\b\b\b\b\b\b\b\b\b\b\b\b\b\b\b\b\b\b\b\b\b\b\b\b\b\b\b\b\b\b\b\b\b\b\b\b\b\b\b\b\b\b\b\b\b\b\b\b\b\b\b\b\b\b\b\b\b\b\b\b\b\b\b\b\b\b\b\b\b\b\b\b\b\b\b\b\b\b\b\b\b\b\b\b\b\b\b\b\b\b\b\b\b\b\b\b\b\b\b\b\b\b\b\b\b\b\b\b\b\b\b\b\b\b\b\b\b\b\b\b\b\r",
      "  14/1000 [..............................] - ETA: 16:10:20 - loss: 19.0053 - rpn_class_loss: 6.7951 - rpn_bbox_loss: 10.9012 - mrcnn_class_loss: 0.5122 - mrcnn_bbox_loss: 0.6325 - mrcnn_mask_loss: 0.1642"
     ]
    },
    {
     "name": "stderr",
     "output_type": "stream",
     "text": [
      "C:\\Users\\tmthy\\AppData\\Roaming\\Python\\Python36\\site-packages\\skimage\\transform\\_warps.py:110: UserWarning: Anti-aliasing will be enabled by default in skimage 0.15 to avoid aliasing artifacts when down-sampling images.\n",
      "  warn(\"Anti-aliasing will be enabled by default in skimage 0.15 to \"\n",
      "C:\\Users\\tmthy\\AppData\\Roaming\\Python\\Python36\\site-packages\\skimage\\transform\\_warps.py:110: UserWarning: Anti-aliasing will be enabled by default in skimage 0.15 to avoid aliasing artifacts when down-sampling images.\n",
      "  warn(\"Anti-aliasing will be enabled by default in skimage 0.15 to \"\n"
     ]
    },
    {
     "name": "stdout",
     "output_type": "stream",
     "text": [
      "\b\b\b\b\b\b\b\b\b\b\b\b\b\b\b\b\b\b\b\b\b\b\b\b\b\b\b\b\b\b\b\b\b\b\b\b\b\b\b\b\b\b\b\b\b\b\b\b\b\b\b\b\b\b\b\b\b\b\b\b\b\b\b\b\b\b\b\b\b\b\b\b\b\b\b\b\b\b\b\b\b\b\b\b\b\b\b\b\b\b\b\b\b\b\b\b\b\b\b\b\b\b\b\b\b\b\b\b\b\b\b\b\b\b\b\b\b\b\b\b\b\b\b\b\b\b\b\b\b\b\b\b\b\b\b\b\b\b\b\b\b\b\b\b\b\b\b\b\b\b\b\b\b\b\b\b\b\b\b\b\b\b\b\b\b\b\b\b\b\b\b\b\b\b\b\b\b\b\b\b\b\b\b\b\b\b\b\b\b\b\b\b\b\b\b\b\b\b\b\b\b\b\b\r",
      "  15/1000 [..............................] - ETA: 16:04:48 - loss: 18.5167 - rpn_class_loss: 6.5431 - rpn_bbox_loss: 10.7519 - mrcnn_class_loss: 0.4781 - mrcnn_bbox_loss: 0.5904 - mrcnn_mask_loss: 0.1533"
     ]
    },
    {
     "name": "stderr",
     "output_type": "stream",
     "text": [
      "C:\\Users\\tmthy\\AppData\\Roaming\\Python\\Python36\\site-packages\\skimage\\transform\\_warps.py:110: UserWarning: Anti-aliasing will be enabled by default in skimage 0.15 to avoid aliasing artifacts when down-sampling images.\n",
      "  warn(\"Anti-aliasing will be enabled by default in skimage 0.15 to \"\n",
      "C:\\Users\\tmthy\\AppData\\Roaming\\Python\\Python36\\site-packages\\skimage\\transform\\_warps.py:110: UserWarning: Anti-aliasing will be enabled by default in skimage 0.15 to avoid aliasing artifacts when down-sampling images.\n",
      "  warn(\"Anti-aliasing will be enabled by default in skimage 0.15 to \"\n"
     ]
    },
    {
     "name": "stdout",
     "output_type": "stream",
     "text": [
      "\b\b\b\b\b\b\b\b\b\b\b\b\b\b\b\b\b\b\b\b\b\b\b\b\b\b\b\b\b\b\b\b\b\b\b\b\b\b\b\b\b\b\b\b\b\b\b\b\b\b\b\b\b\b\b\b\b\b\b\b\b\b\b\b\b\b\b\b\b\b\b\b\b\b\b\b\b\b\b\b\b\b\b\b\b\b\b\b\b\b\b\b\b\b\b\b\b\b\b\b\b\b\b\b\b\b\b\b\b\b\b\b\b\b\b\b\b\b\b\b\b\b\b\b\b\b\b\b\b\b\b\b\b\b\b\b\b\b\b\b\b\b\b\b\b\b\b\b\b\b\b\b\b\b\b\b\b\b\b\b\b\b\b\b\b\b\b\b\b\b\b\b\b\b\b\b\b\b\b\b\b\b\b\b\b\b\b\b\b\b\b\b\b\b\b\b\b\b\b\b\b\b\b\r",
      "  16/1000 [..............................] - ETA: 16:03:59 - loss: 17.8376 - rpn_class_loss: 6.3183 - rpn_bbox_loss: 10.3739 - mrcnn_class_loss: 0.4482 - mrcnn_bbox_loss: 0.5535 - mrcnn_mask_loss: 0.1437"
     ]
    },
    {
     "name": "stderr",
     "output_type": "stream",
     "text": [
      "C:\\Users\\tmthy\\AppData\\Roaming\\Python\\Python36\\site-packages\\skimage\\transform\\_warps.py:110: UserWarning: Anti-aliasing will be enabled by default in skimage 0.15 to avoid aliasing artifacts when down-sampling images.\n",
      "  warn(\"Anti-aliasing will be enabled by default in skimage 0.15 to \"\n",
      "C:\\Users\\tmthy\\AppData\\Roaming\\Python\\Python36\\site-packages\\skimage\\transform\\_warps.py:110: UserWarning: Anti-aliasing will be enabled by default in skimage 0.15 to avoid aliasing artifacts when down-sampling images.\n",
      "  warn(\"Anti-aliasing will be enabled by default in skimage 0.15 to \"\n"
     ]
    },
    {
     "name": "stdout",
     "output_type": "stream",
     "text": [
      "\b\b\b\b\b\b\b\b\b\b\b\b\b\b\b\b\b\b\b\b\b\b\b\b\b\b\b\b\b\b\b\b\b\b\b\b\b\b\b\b\b\b\b\b\b\b\b\b\b\b\b\b\b\b\b\b\b\b\b\b\b\b\b\b\b\b\b\b\b\b\b\b\b\b\b\b\b\b\b\b\b\b\b\b\b\b\b\b\b\b\b\b\b\b\b\b\b\b\b\b\b\b\b\b\b\b\b\b\b\b\b\b\b\b\b\b\b\b\b\b\b\b\b\b\b\b\b\b\b\b\b\b\b\b\b\b\b\b\b\b\b\b\b\b\b\b\b\b\b\b\b\b\b\b\b\b\b\b\b\b\b\b\b\b\b\b\b\b\b\b\b\b\b\b\b\b\b\b\b\b\b\b\b\b\b\b\b\b\b\b\b\b\b\b\b\b\b\b\b\b\b\b\b\r",
      "  17/1000 [..............................] - ETA: 15:58:58 - loss: 17.7736 - rpn_class_loss: 6.0654 - rpn_bbox_loss: 10.2465 - mrcnn_class_loss: 0.4272 - mrcnn_bbox_loss: 0.7924 - mrcnn_mask_loss: 0.2421"
     ]
    },
    {
     "name": "stderr",
     "output_type": "stream",
     "text": [
      "C:\\Users\\tmthy\\AppData\\Roaming\\Python\\Python36\\site-packages\\skimage\\transform\\_warps.py:110: UserWarning: Anti-aliasing will be enabled by default in skimage 0.15 to avoid aliasing artifacts when down-sampling images.\n",
      "  warn(\"Anti-aliasing will be enabled by default in skimage 0.15 to \"\n",
      "C:\\Users\\tmthy\\AppData\\Roaming\\Python\\Python36\\site-packages\\skimage\\transform\\_warps.py:110: UserWarning: Anti-aliasing will be enabled by default in skimage 0.15 to avoid aliasing artifacts when down-sampling images.\n",
      "  warn(\"Anti-aliasing will be enabled by default in skimage 0.15 to \"\n"
     ]
    },
    {
     "name": "stdout",
     "output_type": "stream",
     "text": [
      "\b\b\b\b\b\b\b\b\b\b\b\b\b\b\b\b\b\b\b\b\b\b\b\b\b\b\b\b\b\b\b\b\b\b\b\b\b\b\b\b\b\b\b\b\b\b\b\b\b\b\b\b\b\b\b\b\b\b\b\b\b\b\b\b\b\b\b\b\b\b\b\b\b\b\b\b\b\b\b\b\b\b\b\b\b\b\b\b\b\b\b\b\b\b\b\b\b\b\b\b\b\b\b\b\b\b\b\b\b\b\b\b\b\b\b\b\b\b\b\b\b\b\b\b\b\b\b\b\b\b\b\b\b\b\b\b\b\b\b\b\b\b\b\b\b\b\b\b\b\b\b\b\b\b\b\b\b\b\b\b\b\b\b\b\b\b\b\b\b\b\b\b\b\b\b\b\b\b\b\b\b\b\b\b\b\b\b\b\b\b\b\b\b\b\b\b\b\b\b\b\b\b\b\r",
      "  18/1000 [..............................] - ETA: 16:00:46 - loss: 17.4390 - rpn_class_loss: 5.8635 - rpn_bbox_loss: 10.1951 - mrcnn_class_loss: 0.4035 - mrcnn_bbox_loss: 0.7483 - mrcnn_mask_loss: 0.2287"
     ]
    },
    {
     "name": "stderr",
     "output_type": "stream",
     "text": [
      "C:\\Users\\tmthy\\AppData\\Roaming\\Python\\Python36\\site-packages\\skimage\\transform\\_warps.py:110: UserWarning: Anti-aliasing will be enabled by default in skimage 0.15 to avoid aliasing artifacts when down-sampling images.\n",
      "  warn(\"Anti-aliasing will be enabled by default in skimage 0.15 to \"\n",
      "C:\\Users\\tmthy\\AppData\\Roaming\\Python\\Python36\\site-packages\\skimage\\transform\\_warps.py:110: UserWarning: Anti-aliasing will be enabled by default in skimage 0.15 to avoid aliasing artifacts when down-sampling images.\n",
      "  warn(\"Anti-aliasing will be enabled by default in skimage 0.15 to \"\n"
     ]
    },
    {
     "name": "stdout",
     "output_type": "stream",
     "text": [
      "\b\b\b\b\b\b\b\b\b\b\b\b\b\b\b\b\b\b\b\b\b\b\b\b\b\b\b\b\b\b\b\b\b\b\b\b\b\b\b\b\b\b\b\b\b\b\b\b\b\b\b\b\b\b\b\b\b\b\b\b\b\b\b\b\b\b\b\b\b\b\b\b\b\b\b\b\b\b\b\b\b\b\b\b\b\b\b\b\b\b\b\b\b\b\b\b\b\b\b\b\b\b\b\b\b\b\b\b\b\b\b\b\b\b\b\b\b\b\b\b\b\b\b\b\b\b\b\b\b\b\b\b\b\b\b\b\b\b\b\b\b\b\b\b\b\b\b\b\b\b\b\b\b\b\b\b\b\b\b\b\b\b\b\b\b\b\b\b\b\b\b\b\b\b\b\b\b\b\b\b\b\b\b\b\b\b\b\b\b\b\b\b\b\b\b\b\b\b\b\b\b\b\b\r",
      "  19/1000 [..............................] - ETA: 16:03:07 - loss: 17.0048 - rpn_class_loss: 5.7141 - rpn_bbox_loss: 9.9828 - mrcnn_class_loss: 0.3823 - mrcnn_bbox_loss: 0.7090 - mrcnn_mask_loss: 0.2166 "
     ]
    },
    {
     "name": "stderr",
     "output_type": "stream",
     "text": [
      "C:\\Users\\tmthy\\AppData\\Roaming\\Python\\Python36\\site-packages\\skimage\\transform\\_warps.py:110: UserWarning: Anti-aliasing will be enabled by default in skimage 0.15 to avoid aliasing artifacts when down-sampling images.\n",
      "  warn(\"Anti-aliasing will be enabled by default in skimage 0.15 to \"\n",
      "C:\\Users\\tmthy\\AppData\\Roaming\\Python\\Python36\\site-packages\\skimage\\transform\\_warps.py:110: UserWarning: Anti-aliasing will be enabled by default in skimage 0.15 to avoid aliasing artifacts when down-sampling images.\n",
      "  warn(\"Anti-aliasing will be enabled by default in skimage 0.15 to \"\n"
     ]
    },
    {
     "name": "stdout",
     "output_type": "stream",
     "text": [
      "\b\b\b\b\b\b\b\b\b\b\b\b\b\b\b\b\b\b\b\b\b\b\b\b\b\b\b\b\b\b\b\b\b\b\b\b\b\b\b\b\b\b\b\b\b\b\b\b\b\b\b\b\b\b\b\b\b\b\b\b\b\b\b\b\b\b\b\b\b\b\b\b\b\b\b\b\b\b\b\b\b\b\b\b\b\b\b\b\b\b\b\b\b\b\b\b\b\b\b\b\b\b\b\b\b\b\b\b\b\b\b\b\b\b\b\b\b\b\b\b\b\b\b\b\b\b\b\b\b\b\b\b\b\b\b\b\b\b\b\b\b\b\b\b\b\b\b\b\b\b\b\b\b\b\b\b\b\b\b\b\b\b\b\b\b\b\b\b\b\b\b\b\b\b\b\b\b\b\b\b\b\b\b\b\b\b\b\b\b\b\b\b\b\b\b\b\b\b\b\b\b\b\r",
      "  20/1000 [..............................] - ETA: 16:00:26 - loss: 16.6490 - rpn_class_loss: 5.5850 - rpn_bbox_loss: 9.8216 - mrcnn_class_loss: 0.3631 - mrcnn_bbox_loss: 0.6735 - mrcnn_mask_loss: 0.2058"
     ]
    },
    {
     "name": "stderr",
     "output_type": "stream",
     "text": [
      "C:\\Users\\tmthy\\AppData\\Roaming\\Python\\Python36\\site-packages\\skimage\\transform\\_warps.py:110: UserWarning: Anti-aliasing will be enabled by default in skimage 0.15 to avoid aliasing artifacts when down-sampling images.\n",
      "  warn(\"Anti-aliasing will be enabled by default in skimage 0.15 to \"\n",
      "C:\\Users\\tmthy\\AppData\\Roaming\\Python\\Python36\\site-packages\\skimage\\transform\\_warps.py:110: UserWarning: Anti-aliasing will be enabled by default in skimage 0.15 to avoid aliasing artifacts when down-sampling images.\n",
      "  warn(\"Anti-aliasing will be enabled by default in skimage 0.15 to \"\n"
     ]
    },
    {
     "name": "stdout",
     "output_type": "stream",
     "text": [
      "\b\b\b\b\b\b\b\b\b\b\b\b\b\b\b\b\b\b\b\b\b\b\b\b\b\b\b\b\b\b\b\b\b\b\b\b\b\b\b\b\b\b\b\b\b\b\b\b\b\b\b\b\b\b\b\b\b\b\b\b\b\b\b\b\b\b\b\b\b\b\b\b\b\b\b\b\b\b\b\b\b\b\b\b\b\b\b\b\b\b\b\b\b\b\b\b\b\b\b\b\b\b\b\b\b\b\b\b\b\b\b\b\b\b\b\b\b\b\b\b\b\b\b\b\b\b\b\b\b\b\b\b\b\b\b\b\b\b\b\b\b\b\b\b\b\b\b\b\b\b\b\b\b\b\b\b\b\b\b\b\b\b\b\b\b\b\b\b\b\b\b\b\b\b\b\b\b\b\b\b\b\b\b\b\b\b\b\b\b\b\b\b\b\b\b\b\b\b\b\b\b\b\r",
      "  21/1000 [..............................] - ETA: 15:56:57 - loss: 16.2496 - rpn_class_loss: 5.4431 - rpn_bbox_loss: 9.6232 - mrcnn_class_loss: 0.3458 - mrcnn_bbox_loss: 0.6414 - mrcnn_mask_loss: 0.1960"
     ]
    },
    {
     "name": "stderr",
     "output_type": "stream",
     "text": [
      "C:\\Users\\tmthy\\AppData\\Roaming\\Python\\Python36\\site-packages\\skimage\\transform\\_warps.py:110: UserWarning: Anti-aliasing will be enabled by default in skimage 0.15 to avoid aliasing artifacts when down-sampling images.\n",
      "  warn(\"Anti-aliasing will be enabled by default in skimage 0.15 to \"\n",
      "C:\\Users\\tmthy\\AppData\\Roaming\\Python\\Python36\\site-packages\\skimage\\transform\\_warps.py:110: UserWarning: Anti-aliasing will be enabled by default in skimage 0.15 to avoid aliasing artifacts when down-sampling images.\n",
      "  warn(\"Anti-aliasing will be enabled by default in skimage 0.15 to \"\n"
     ]
    }
   ],
   "source": [
    "STARTING_WEIGHTS = os.path.join(LOGS_DIR, 'mask_rcnn_cooc.h5')\n",
    "\n",
    "# Create model in training mode\n",
    "model = modellib.MaskRCNN(mode=\"training\", config=cfg, model_dir=LOGS_DIR)\n",
    "\n",
    "model.load_weights(STARTING_WEIGHTS, by_name=True, exclude=[\n",
    "            \"mrcnn_class_logits\", \"mrcnn_bbox_fc\",\n",
    "            \"mrcnn_bbox\", \"mrcnn_mask\"])\n",
    "\n",
    "model.train(dataset_train, dataset_val, \n",
    "            learning_rate=cfg.LEARNING_RATE, \n",
    "            epochs=1, \n",
    "            layers='heads')"
   ]
  }
 ],
 "metadata": {
  "accelerator": "GPU",
  "colab": {
   "collapsed_sections": [],
   "default_view": {},
   "name": "wad_data_training-1.ipynb",
   "provenance": [],
   "version": "0.3.2",
   "views": {}
  },
  "kernelspec": {
   "display_name": "Python 3",
   "language": "python",
   "name": "python3"
  },
  "language_info": {
   "codemirror_mode": {
    "name": "ipython",
    "version": 3
   },
   "file_extension": ".py",
   "mimetype": "text/x-python",
   "name": "python",
   "nbconvert_exporter": "python",
   "pygments_lexer": "ipython3",
   "version": "3.6.4"
  }
 },
 "nbformat": 4,
 "nbformat_minor": 1
}
